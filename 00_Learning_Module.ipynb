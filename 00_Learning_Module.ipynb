{
  "nbformat": 4,
  "nbformat_minor": 0,
  "metadata": {
    "colab": {
      "provenance": [],
      "authorship_tag": "ABX9TyOtHHPOhdtVaeVhO17t/2WD",
      "include_colab_link": true
    },
    "kernelspec": {
      "name": "python3",
      "display_name": "Python 3"
    },
    "language_info": {
      "name": "python"
    }
  },
  "cells": [
    {
      "cell_type": "markdown",
      "metadata": {
        "id": "view-in-github",
        "colab_type": "text"
      },
      "source": [
        "<a href=\"https://colab.research.google.com/github/ERROR6447/learn_pytorch/blob/Learning/00_Learning_Module.ipynb\" target=\"_parent\"><img src=\"https://colab.research.google.com/assets/colab-badge.svg\" alt=\"Open In Colab\"/></a>"
      ]
    },
    {
      "cell_type": "markdown",
      "source": [
        "#00 PyTorch Fundamentals\n",
        "\n",
        "Resources for Exercise : https://www.learnpytorch.io/00_pytorch_fundamentals/"
      ],
      "metadata": {
        "id": "QfpNdamewviF"
      }
    },
    {
      "cell_type": "code",
      "source": [
        "import torch\n",
        "import pandas as pd\n",
        "import numpy as np\n",
        "import matplotlib.pyplot"
      ],
      "metadata": {
        "id": "1MSo9BBHw9XE"
      },
      "execution_count": null,
      "outputs": []
    },
    {
      "cell_type": "code",
      "source": [
        "torch.__version__"
      ],
      "metadata": {
        "colab": {
          "base_uri": "https://localhost:8080/",
          "height": 36
        },
        "id": "pN99JCllyeqw",
        "outputId": "ed55056a-17e3-4092-c08b-eee01ca5281b"
      },
      "execution_count": null,
      "outputs": [
        {
          "output_type": "execute_result",
          "data": {
            "text/plain": [
              "'2.1.0+cu121'"
            ],
            "application/vnd.google.colaboratory.intrinsic+json": {
              "type": "string"
            }
          },
          "metadata": {},
          "execution_count": 2
        }
      ]
    },
    {
      "cell_type": "markdown",
      "source": [
        "## Introdcution to Tensors\n",
        "\n",
        "Resource : https://pytorch.org/docs/stable/tensors.html\n",
        "\n",
        "created using `torch.Tensor()`\n",
        "\n",
        "It always create a copy of the tensor instead of using the existing one for example creating a tensor from numpy array will create another copy to not create the copy and use the existing one we need to use the function described in the documetation above"
      ],
      "metadata": {
        "id": "kpAgHlFJypav"
      }
    },
    {
      "cell_type": "markdown",
      "source": [
        "### Creating a Tensor"
      ],
      "metadata": {
        "id": "aGJxFFLvzHKp"
      }
    },
    {
      "cell_type": "code",
      "source": [
        "### Scalar Tensor\n",
        "\n",
        "scalar = torch.tensor(7)\n",
        "scalar"
      ],
      "metadata": {
        "colab": {
          "base_uri": "https://localhost:8080/"
        },
        "id": "17kV2iErzKCQ",
        "outputId": "7bffb38e-4f9e-4feb-d620-d4f18a16f4c1"
      },
      "execution_count": null,
      "outputs": [
        {
          "output_type": "execute_result",
          "data": {
            "text/plain": [
              "tensor(7)"
            ]
          },
          "metadata": {},
          "execution_count": 3
        }
      ]
    },
    {
      "cell_type": "code",
      "source": [
        "## has no dimension\n",
        "scalar.ndim"
      ],
      "metadata": {
        "colab": {
          "base_uri": "https://localhost:8080/"
        },
        "id": "eTI8JqKBzS4R",
        "outputId": "4b319a63-cd13-4c9c-867e-c046b0d9d4ee"
      },
      "execution_count": null,
      "outputs": [
        {
          "output_type": "execute_result",
          "data": {
            "text/plain": [
              "0"
            ]
          },
          "metadata": {},
          "execution_count": 4
        }
      ]
    },
    {
      "cell_type": "code",
      "source": [
        "# Get Tensor Back\n",
        "scalar.item()"
      ],
      "metadata": {
        "colab": {
          "base_uri": "https://localhost:8080/"
        },
        "id": "bBBWmGVbzUTg",
        "outputId": "8f5e53a5-cdef-457c-d895-dca489031621"
      },
      "execution_count": null,
      "outputs": [
        {
          "output_type": "execute_result",
          "data": {
            "text/plain": [
              "7"
            ]
          },
          "metadata": {},
          "execution_count": 5
        }
      ]
    },
    {
      "cell_type": "code",
      "source": [
        "# Vector has mangnititude and directions and head and tail\n",
        "# has more than one number\n",
        "vector = torch.tensor([7,7])\n",
        "vector"
      ],
      "metadata": {
        "colab": {
          "base_uri": "https://localhost:8080/"
        },
        "id": "RFVkPgIU0LmZ",
        "outputId": "19e29e3a-d578-4205-b5b4-4288229a8462"
      },
      "execution_count": null,
      "outputs": [
        {
          "output_type": "execute_result",
          "data": {
            "text/plain": [
              "tensor([7, 7])"
            ]
          },
          "metadata": {},
          "execution_count": 6
        }
      ]
    },
    {
      "cell_type": "code",
      "source": [
        "# dimension number of rows present in the vecotr\n",
        "print(vector.ndim)\n",
        "# gives you the shape of the vector if only one row then will only show column else will show number of rows and couns\n",
        "print(vector.shape)"
      ],
      "metadata": {
        "colab": {
          "base_uri": "https://localhost:8080/"
        },
        "id": "KzXMKpP90V4Y",
        "outputId": "ec282578-e0a5-4a4a-d01d-ec0c0cf6da5a"
      },
      "execution_count": null,
      "outputs": [
        {
          "output_type": "stream",
          "name": "stdout",
          "text": [
            "1\n",
            "torch.Size([2])\n"
          ]
        }
      ]
    },
    {
      "cell_type": "code",
      "source": [
        "vectors = torch.tensor([[7,7,7],[7,7,7]])"
      ],
      "metadata": {
        "id": "hqzgFpAg0g4R"
      },
      "execution_count": null,
      "outputs": []
    },
    {
      "cell_type": "code",
      "source": [
        "# dimension number of rows present in the vecotr\n",
        "print(vectors.ndim)\n",
        "# number of column present in the vector\n",
        "print(vectors.shape)"
      ],
      "metadata": {
        "colab": {
          "base_uri": "https://localhost:8080/"
        },
        "id": "-2EqWYQW0jpo",
        "outputId": "ad838869-641c-4fe2-fbb5-75c77bcae95f"
      },
      "execution_count": null,
      "outputs": [
        {
          "output_type": "stream",
          "name": "stdout",
          "text": [
            "2\n",
            "torch.Size([2, 3])\n"
          ]
        }
      ]
    },
    {
      "cell_type": "code",
      "source": [
        "## For tesnor of shape 1x1 returns not result set\n",
        "print(scalar.shape)"
      ],
      "metadata": {
        "colab": {
          "base_uri": "https://localhost:8080/"
        },
        "id": "bxIKpc3D0_Sh",
        "outputId": "ceef7256-b87e-4e44-f2fd-7c4278591b80"
      },
      "execution_count": null,
      "outputs": [
        {
          "output_type": "stream",
          "name": "stdout",
          "text": [
            "torch.Size([])\n"
          ]
        }
      ]
    },
    {
      "cell_type": "code",
      "source": [
        "## MATRIX\n",
        "MATRIX = torch.tensor([[7,8],[9,10]])\n",
        "MATRIX"
      ],
      "metadata": {
        "colab": {
          "base_uri": "https://localhost:8080/"
        },
        "id": "MnNWFlvm1O3g",
        "outputId": "26ed0613-5469-4598-a5c7-fc6d87f23bdb"
      },
      "execution_count": null,
      "outputs": [
        {
          "output_type": "execute_result",
          "data": {
            "text/plain": [
              "tensor([[ 7,  8],\n",
              "        [ 9, 10]])"
            ]
          },
          "metadata": {},
          "execution_count": 11
        }
      ]
    },
    {
      "cell_type": "code",
      "source": [
        "print(MATRIX.ndim)\n",
        "print(MATRIX.shape)\n",
        "print(MATRIX[0])\n",
        "print(MATRIX[1][:])"
      ],
      "metadata": {
        "colab": {
          "base_uri": "https://localhost:8080/"
        },
        "id": "gjhC-qtq1foo",
        "outputId": "f24899c5-9d58-4a68-d9fb-8b52b667f485"
      },
      "execution_count": null,
      "outputs": [
        {
          "output_type": "stream",
          "name": "stdout",
          "text": [
            "2\n",
            "torch.Size([2, 2])\n",
            "tensor([7, 8])\n",
            "tensor([ 9, 10])\n"
          ]
        }
      ]
    },
    {
      "cell_type": "code",
      "source": [
        "#TENSOR\n",
        "TENSOR = torch.tensor([[[1,2,3],\n",
        "                        [4,6,7],\n",
        "                        [7,8,9]]])\n",
        "TENSOR"
      ],
      "metadata": {
        "colab": {
          "base_uri": "https://localhost:8080/"
        },
        "id": "xyhtneKi1n3I",
        "outputId": "5ec09212-46db-4919-d509-452bcfe35c25"
      },
      "execution_count": null,
      "outputs": [
        {
          "output_type": "execute_result",
          "data": {
            "text/plain": [
              "tensor([[[1, 2, 3],\n",
              "         [4, 6, 7],\n",
              "         [7, 8, 9]]])"
            ]
          },
          "metadata": {},
          "execution_count": 13
        }
      ]
    },
    {
      "cell_type": "code",
      "source": [
        "print(TENSOR.ndim)\n",
        "print(TENSOR.shape)\n"
      ],
      "metadata": {
        "colab": {
          "base_uri": "https://localhost:8080/"
        },
        "id": "tRAJXaWm4ykx",
        "outputId": "d73c4fb6-232f-4112-9355-8c0850a1bcea"
      },
      "execution_count": null,
      "outputs": [
        {
          "output_type": "stream",
          "name": "stdout",
          "text": [
            "3\n",
            "torch.Size([1, 3, 3])\n"
          ]
        }
      ]
    },
    {
      "cell_type": "markdown",
      "source": [
        "Summary :\n",
        "\n",
        "a scalar and vector is often represented by a lower case \\\\\n",
        "while the martix and tensor are represented by a upper case"
      ],
      "metadata": {
        "id": "3TO4LO-e5po3"
      }
    },
    {
      "cell_type": "markdown",
      "source": [
        "### Creating a Random Tensor\n",
        "\n",
        "These are important becuase most nerual network learning process starts with tensors full of random number and these numbers are adjusted as they learn to better represent the data. \\\\\n",
        "\n",
        "`Start with random number - > look at data -> update random number -> look at the data -> update random number`\n",
        "\\\\\n",
        "continue till criteria for stopping is achieved \\\\\n",
        "Resources: https://pytorch.org/docs/stable/generated/torch.rand.html"
      ],
      "metadata": {
        "id": "O4dF-IYq47E5"
      }
    },
    {
      "cell_type": "code",
      "source": [
        "##RANDOM Tensor\n",
        "random_tensor = torch.rand (3,4)\n",
        "random_tensor"
      ],
      "metadata": {
        "colab": {
          "base_uri": "https://localhost:8080/"
        },
        "id": "YDP4jdix5Zl4",
        "outputId": "856931c6-5699-45eb-bc41-bcfc0bc9313f"
      },
      "execution_count": null,
      "outputs": [
        {
          "output_type": "execute_result",
          "data": {
            "text/plain": [
              "tensor([[0.6953, 0.5127, 0.9175, 0.6683],\n",
              "        [0.3396, 0.6634, 0.6006, 0.1950],\n",
              "        [0.7233, 0.9942, 0.1960, 0.5551]])"
            ]
          },
          "metadata": {},
          "execution_count": 15
        }
      ]
    },
    {
      "cell_type": "code",
      "source": [
        "print(random_tensor.ndim)\n",
        "print(random_tensor.shape)"
      ],
      "metadata": {
        "colab": {
          "base_uri": "https://localhost:8080/"
        },
        "id": "e5XgG9US6jDR",
        "outputId": "07c0a02a-6bf8-454c-d8d8-382adfde586d"
      },
      "execution_count": null,
      "outputs": [
        {
          "output_type": "stream",
          "name": "stdout",
          "text": [
            "2\n",
            "torch.Size([3, 4])\n"
          ]
        }
      ]
    },
    {
      "cell_type": "code",
      "source": [
        "### Creating a random tensor with similar shape to an image tensor\n",
        "### Sometimes the color channels comes first so 3,244,244 => color_channel,width,height\n",
        "random_image_size_tensor = torch.rand(size=(224,224,3)) # height, width, colour channels (R,G,B)\n",
        "random_image_size_tensor.shape,random_image_size_tensor.ndim"
      ],
      "metadata": {
        "colab": {
          "base_uri": "https://localhost:8080/"
        },
        "id": "yEHKnNJx62-h",
        "outputId": "bc1d2861-ccfc-498f-ebbb-e083c8f03ff4"
      },
      "execution_count": null,
      "outputs": [
        {
          "output_type": "execute_result",
          "data": {
            "text/plain": [
              "(torch.Size([224, 224, 3]), 3)"
            ]
          },
          "metadata": {},
          "execution_count": 17
        }
      ]
    },
    {
      "cell_type": "markdown",
      "source": [
        "## Zeros and Ones"
      ],
      "metadata": {
        "id": "JN5Q-hGf838i"
      }
    },
    {
      "cell_type": "code",
      "source": [
        "### Creaitng a  tesnor of all zeros\n",
        "zeros = torch.zeros(size=(3,4))\n",
        "zeros"
      ],
      "metadata": {
        "colab": {
          "base_uri": "https://localhost:8080/"
        },
        "id": "JtZPz_zw892A",
        "outputId": "ea0b4656-5fca-4dd6-9ecc-2b608ff79fab"
      },
      "execution_count": null,
      "outputs": [
        {
          "output_type": "execute_result",
          "data": {
            "text/plain": [
              "tensor([[0., 0., 0., 0.],\n",
              "        [0., 0., 0., 0.],\n",
              "        [0., 0., 0., 0.]])"
            ]
          },
          "metadata": {},
          "execution_count": 18
        }
      ]
    },
    {
      "cell_type": "code",
      "source": [
        " zeros.shape,random_tensor.shape"
      ],
      "metadata": {
        "colab": {
          "base_uri": "https://localhost:8080/"
        },
        "id": "1o6FhuAR9B85",
        "outputId": "fc90cf30-fe83-4bf7-fa0a-d5c426c6848b"
      },
      "execution_count": null,
      "outputs": [
        {
          "output_type": "execute_result",
          "data": {
            "text/plain": [
              "(torch.Size([3, 4]), torch.Size([3, 4]))"
            ]
          },
          "metadata": {},
          "execution_count": 19
        }
      ]
    },
    {
      "cell_type": "code",
      "source": [
        "zeros*random_tensor"
      ],
      "metadata": {
        "colab": {
          "base_uri": "https://localhost:8080/"
        },
        "id": "MADkVpEJ9QHh",
        "outputId": "3441c079-9918-4755-adca-1f550b988843"
      },
      "execution_count": null,
      "outputs": [
        {
          "output_type": "execute_result",
          "data": {
            "text/plain": [
              "tensor([[0., 0., 0., 0.],\n",
              "        [0., 0., 0., 0.],\n",
              "        [0., 0., 0., 0.]])"
            ]
          },
          "metadata": {},
          "execution_count": 20
        }
      ]
    },
    {
      "cell_type": "code",
      "source": [
        "### Creating Tensor of all ones\n",
        "ones = torch.ones(size=(3,4))\n",
        "ones"
      ],
      "metadata": {
        "colab": {
          "base_uri": "https://localhost:8080/"
        },
        "id": "_BlLP5gD9hab",
        "outputId": "032c668d-e031-4e6a-9d14-fd182dfe396a"
      },
      "execution_count": null,
      "outputs": [
        {
          "output_type": "execute_result",
          "data": {
            "text/plain": [
              "tensor([[1., 1., 1., 1.],\n",
              "        [1., 1., 1., 1.],\n",
              "        [1., 1., 1., 1.]])"
            ]
          },
          "metadata": {},
          "execution_count": 21
        }
      ]
    },
    {
      "cell_type": "code",
      "source": [
        "## dtype is the type of the element of the datatype\n",
        "ones.shape,ones.dtype"
      ],
      "metadata": {
        "colab": {
          "base_uri": "https://localhost:8080/"
        },
        "id": "WskiV0oj9tPh",
        "outputId": "2d414652-4aa1-4a9d-c068-fee20ad9460c"
      },
      "execution_count": null,
      "outputs": [
        {
          "output_type": "execute_result",
          "data": {
            "text/plain": [
              "(torch.Size([3, 4]), torch.float32)"
            ]
          },
          "metadata": {},
          "execution_count": 22
        }
      ]
    },
    {
      "cell_type": "code",
      "source": [
        "ones_with_diff_dtype = torch.ones(size=(3,4),dtype=torch.int32)\n",
        "ones_with_diff_dtype.shape,ones_with_diff_dtype.dtype"
      ],
      "metadata": {
        "colab": {
          "base_uri": "https://localhost:8080/"
        },
        "id": "9oxeFKlb9zQa",
        "outputId": "382413be-3402-485a-8aaa-26625c797aee"
      },
      "execution_count": null,
      "outputs": [
        {
          "output_type": "execute_result",
          "data": {
            "text/plain": [
              "(torch.Size([3, 4]), torch.int32)"
            ]
          },
          "metadata": {},
          "execution_count": 23
        }
      ]
    },
    {
      "cell_type": "markdown",
      "source": [
        "## Creating a range of Tensors and Tensors like"
      ],
      "metadata": {
        "id": "ArKt6-0k99Qs"
      }
    },
    {
      "cell_type": "code",
      "source": [
        "# user torch.range()\n",
        "torch.range(0,10)\n"
      ],
      "metadata": {
        "colab": {
          "base_uri": "https://localhost:8080/"
        },
        "id": "slfxJp9g-LYx",
        "outputId": "e11374d7-649b-4624-f1ad-b7cc931e73d4"
      },
      "execution_count": null,
      "outputs": [
        {
          "output_type": "stream",
          "name": "stderr",
          "text": [
            "<ipython-input-24-b8b6d4ee4e85>:2: UserWarning: torch.range is deprecated and will be removed in a future release because its behavior is inconsistent with Python's range builtin. Instead, use torch.arange, which produces values in [start, end).\n",
            "  torch.range(0,10)\n"
          ]
        },
        {
          "output_type": "execute_result",
          "data": {
            "text/plain": [
              "tensor([ 0.,  1.,  2.,  3.,  4.,  5.,  6.,  7.,  8.,  9., 10.])"
            ]
          },
          "metadata": {},
          "execution_count": 24
        }
      ]
    },
    {
      "cell_type": "code",
      "source": [
        "# create a range with start and end (Not Couting it ) and default step is 1\n",
        "torch.arange(0,10)"
      ],
      "metadata": {
        "colab": {
          "base_uri": "https://localhost:8080/"
        },
        "id": "q1mfTAhi-OhQ",
        "outputId": "4ef96e2a-913c-4bbb-ecd0-c6a9ec5489e2"
      },
      "execution_count": null,
      "outputs": [
        {
          "output_type": "execute_result",
          "data": {
            "text/plain": [
              "tensor([0, 1, 2, 3, 4, 5, 6, 7, 8, 9])"
            ]
          },
          "metadata": {},
          "execution_count": 25
        }
      ]
    },
    {
      "cell_type": "code",
      "source": [
        "# with change in step szie\n",
        "torch.arange(start= 0,end = 15,step = 2)"
      ],
      "metadata": {
        "colab": {
          "base_uri": "https://localhost:8080/"
        },
        "id": "zhht_DcH-afb",
        "outputId": "9a1fd93d-1598-4d7f-ec45-09a00a93de33"
      },
      "execution_count": null,
      "outputs": [
        {
          "output_type": "execute_result",
          "data": {
            "text/plain": [
              "tensor([ 0,  2,  4,  6,  8, 10, 12, 14])"
            ]
          },
          "metadata": {},
          "execution_count": 26
        }
      ]
    },
    {
      "cell_type": "markdown",
      "source": [
        "## For Creating a like tensor similar to other tensor\n",
        "look for methods previsouly used for creating the tensor and those should have _like appended to them at the end of the function call"
      ],
      "metadata": {
        "id": "D1pD9MYY_q88"
      }
    },
    {
      "cell_type": "code",
      "source": [
        "## Cerating tensor like where we want shape as that of other tensor without explicitly specifying the shape of the tensor\n",
        "zeros = torch.zeros(3,3)\n",
        "like_the_above_tensor = torch.zeros_like(input=zeros)\n",
        "like_the_above_tensor"
      ],
      "metadata": {
        "colab": {
          "base_uri": "https://localhost:8080/"
        },
        "id": "jhmRlKjW-oET",
        "outputId": "41e55d12-ea7d-4571-b461-2a633db7a13d"
      },
      "execution_count": null,
      "outputs": [
        {
          "output_type": "execute_result",
          "data": {
            "text/plain": [
              "tensor([[0., 0., 0.],\n",
              "        [0., 0., 0.],\n",
              "        [0., 0., 0.]])"
            ]
          },
          "metadata": {},
          "execution_count": 27
        }
      ]
    },
    {
      "cell_type": "code",
      "source": [
        "zeros = torch.zeros(3,3)\n",
        "like_the_above_tensor = torch.ones_like(input=zeros)\n",
        "like_the_above_tensor"
      ],
      "metadata": {
        "colab": {
          "base_uri": "https://localhost:8080/"
        },
        "id": "gxWFR62n-5t8",
        "outputId": "5492b52f-31c5-4143-acbe-1e6bb3eecf49"
      },
      "execution_count": null,
      "outputs": [
        {
          "output_type": "execute_result",
          "data": {
            "text/plain": [
              "tensor([[1., 1., 1.],\n",
              "        [1., 1., 1.],\n",
              "        [1., 1., 1.]])"
            ]
          },
          "metadata": {},
          "execution_count": 28
        }
      ]
    },
    {
      "cell_type": "code",
      "source": [
        "zeros = torch.zeros(3,3)\n",
        "like_the_above_tensor = torch.rand_like(input=zeros)\n",
        "like_the_above_tensor"
      ],
      "metadata": {
        "colab": {
          "base_uri": "https://localhost:8080/"
        },
        "id": "MjPyW8vw_eb7",
        "outputId": "d21dc8f6-f846-4764-90d9-e6c7b3241fa6"
      },
      "execution_count": null,
      "outputs": [
        {
          "output_type": "execute_result",
          "data": {
            "text/plain": [
              "tensor([[0.6029, 0.3426, 0.2302],\n",
              "        [0.3444, 0.0615, 0.3130],\n",
              "        [0.5566, 0.0247, 0.8032]])"
            ]
          },
          "metadata": {},
          "execution_count": 29
        }
      ]
    },
    {
      "cell_type": "markdown",
      "source": [
        "## Tensor Data Types\n",
        "Default data type for tensors is float32\n",
        "\n",
        "**Note: ** Tensor datatypes is one of the 3 big error we'll run into with PyTorch and Deep Learning\n",
        "1. Tensors are not right datatype\n",
        "2. Tensors not right shape\n",
        "3. Tensors not on the right device"
      ],
      "metadata": {
        "id": "-EM-n5jx_iDL"
      }
    },
    {
      "cell_type": "code",
      "source": [
        "none_data_type = torch.rand(size=(1,3),dtype=None)\n",
        "none_data_type,none_data_type.dtype"
      ],
      "metadata": {
        "colab": {
          "base_uri": "https://localhost:8080/"
        },
        "id": "PLrTfeQeACOE",
        "outputId": "bccc0f4c-5f9c-4c90-dc83-4bb3adc22192"
      },
      "execution_count": null,
      "outputs": [
        {
          "output_type": "execute_result",
          "data": {
            "text/plain": [
              "(tensor([[0.2375, 0.8944, 0.8021]]), torch.float32)"
            ]
          },
          "metadata": {},
          "execution_count": 31
        }
      ]
    },
    {
      "cell_type": "code",
      "source": [
        "## Changing the data type of the tensor\n",
        "none_data_type = torch.rand(size=(1,3),dtype=torch.float16)\n",
        "none_data_type,none_data_type.dtype"
      ],
      "metadata": {
        "colab": {
          "base_uri": "https://localhost:8080/"
        },
        "id": "5UCR0X_KACuc",
        "outputId": "b1b7039a-0eca-49e8-e50b-c19ceba8273d"
      },
      "execution_count": null,
      "outputs": [
        {
          "output_type": "execute_result",
          "data": {
            "text/plain": [
              "(tensor([[0.2661, 0.6592, 0.1919]], dtype=torch.float16), torch.float16)"
            ]
          },
          "metadata": {},
          "execution_count": 30
        }
      ]
    },
    {
      "cell_type": "markdown",
      "source": [
        "dtype: What datatype is the tensor \\\\\n",
        "device: which device is your tensor on cpu or gpu \\\\\n",
        "requires_grad: Whether or not to track gradients with this tensors operations \\\\\n",
        "\n",
        "**Note:** rand function is only implemented to create float data type tensor"
      ],
      "metadata": {
        "id": "iTzeLzFJrLkC"
      }
    },
    {
      "cell_type": "code",
      "source": [
        "###\n",
        "none_data_type = torch.rand(size=(1,3),\n",
        "                            dtype=None,  ## type of data of array elements\n",
        "                            device=None,  ## by default it's 'CPU' when using gpu can write 'cuda'\n",
        "                            requires_grad = False) ## When we want PyTorch to Watch Gradient when the tensor goes through numeric calculation\n",
        "none_data_type,none_data_type.dtype"
      ],
      "metadata": {
        "colab": {
          "base_uri": "https://localhost:8080/"
        },
        "id": "S0DRe3cSADKU",
        "outputId": "bf68e76a-2898-4070-c818-779545724384"
      },
      "execution_count": null,
      "outputs": [
        {
          "output_type": "execute_result",
          "data": {
            "text/plain": [
              "(tensor([[0.6772, 0.2447, 0.1697]]), torch.float32)"
            ]
          },
          "metadata": {},
          "execution_count": 43
        }
      ]
    },
    {
      "cell_type": "code",
      "source": [
        "## covnerting the data type of the tensors\n",
        "float_16_tensor = none_data_type.type(torch.float16)\n",
        "float_16_tensor, float_16_tensor.dtype"
      ],
      "metadata": {
        "colab": {
          "base_uri": "https://localhost:8080/"
        },
        "id": "NFteTs9wADQU",
        "outputId": "b6ce14a7-bf14-4122-b3fa-d32499fdd724"
      },
      "execution_count": null,
      "outputs": [
        {
          "output_type": "execute_result",
          "data": {
            "text/plain": [
              "(tensor([[0.6772, 0.2446, 0.1697]], dtype=torch.float16), torch.float16)"
            ]
          },
          "metadata": {},
          "execution_count": 46
        }
      ]
    },
    {
      "cell_type": "code",
      "source": [
        "new_data_type = none_data_type * float_16_tensor\n",
        "new_data_type, new_data_type.dtype"
      ],
      "metadata": {
        "colab": {
          "base_uri": "https://localhost:8080/"
        },
        "id": "QBpuhw9AADVc",
        "outputId": "741b67f5-52e4-427c-8648-afa0e6879d7a"
      },
      "execution_count": null,
      "outputs": [
        {
          "output_type": "execute_result",
          "data": {
            "text/plain": [
              "(tensor([[0.4586, 0.0599, 0.0288]]), torch.float32)"
            ]
          },
          "metadata": {},
          "execution_count": 47
        }
      ]
    },
    {
      "cell_type": "markdown",
      "source": [
        "### Getting information from the tensor\n",
        "\n",
        "1. dtype: get the type of the tensor\n",
        "2. shape: get the shape of the tensor\n",
        "3. device: get the device of the tensor\n",
        "4. size() : can also use this function to get the size of the tensor"
      ],
      "metadata": {
        "id": "ckPrIUOYADad"
      }
    },
    {
      "cell_type": "code",
      "source": [
        "### getting the information about the tensor can use tensor.dtype\n",
        "new_tensor = torch.tensor([1,2,3,4,5],dtype=None)\n",
        "new_tensor,new_tensor.dtype"
      ],
      "metadata": {
        "colab": {
          "base_uri": "https://localhost:8080/"
        },
        "id": "ph4GQ0ANADe0",
        "outputId": "75d1c11e-bb8e-4975-bbc9-082b69a42799"
      },
      "execution_count": null,
      "outputs": [
        {
          "output_type": "execute_result",
          "data": {
            "text/plain": [
              "(tensor([1, 2, 3, 4, 5]), torch.int64)"
            ]
          },
          "metadata": {},
          "execution_count": 49
        }
      ]
    },
    {
      "cell_type": "code",
      "source": [
        "### Getting the shape of the tensor we can  use tensor.shape\n",
        "new_tensor.shape"
      ],
      "metadata": {
        "colab": {
          "base_uri": "https://localhost:8080/"
        },
        "id": "32YpKKxGADjL",
        "outputId": "efcb3c5b-1a5b-468a-b5ac-9e287ee36c40"
      },
      "execution_count": null,
      "outputs": [
        {
          "output_type": "execute_result",
          "data": {
            "text/plain": [
              "torch.Size([5])"
            ]
          },
          "metadata": {},
          "execution_count": 50
        }
      ]
    },
    {
      "cell_type": "code",
      "source": [
        "### Getting the device on which the tensor exists we can use tensor.device\n",
        "new_tensor.device"
      ],
      "metadata": {
        "colab": {
          "base_uri": "https://localhost:8080/"
        },
        "id": "92JX9V_6ADnE",
        "outputId": "4cea32f0-de97-4dec-c334-c90fb38a2c48"
      },
      "execution_count": null,
      "outputs": [
        {
          "output_type": "execute_result",
          "data": {
            "text/plain": [
              "device(type='cpu')"
            ]
          },
          "metadata": {},
          "execution_count": 51
        }
      ]
    },
    {
      "cell_type": "code",
      "source": [
        "### Get the number of gpus present on the system\n",
        "print(f'Number of GPUS available: {torch.cuda.device_count()}')\n",
        "print('Can use this device using the function : torch.device(cuda:{which number of gpu we want to use starting from 0 to nubmer_of_gpu -1)')\n"
      ],
      "metadata": {
        "colab": {
          "base_uri": "https://localhost:8080/"
        },
        "id": "lgnbHHzO1tWv",
        "outputId": "3414cf89-8a56-4b33-d363-d645646b292a"
      },
      "execution_count": null,
      "outputs": [
        {
          "output_type": "stream",
          "name": "stdout",
          "text": [
            "Number of GPUS available: 0\n",
            "Can use this device using the function : torch.device(cuda:{which number of gpu we want to use starting from 0 to nubmer_of_gpu -1)\n"
          ]
        }
      ]
    },
    {
      "cell_type": "code",
      "source": [
        "## creating a tensor with new type and change the device on which the tensor is on\n",
        "new_test_tensor = torch.rand([1,2,3,4,5],dtype= torch.float16)\n",
        "print(f'Device on which the tensor is on: {new_test_tensor.device}')\n",
        "new_tensor_with_dff = new_test_tensor.to(dtype=torch.int32)\n",
        "## Sample Code to change the device on which the tensor is on:\n",
        "## new_tensor_with_dff = new_test_tensor.to(dtype=torch.int32,device=torch.device('cuda:0'))\n",
        "\n",
        "new_tensor_with_dff.dtype"
      ],
      "metadata": {
        "colab": {
          "base_uri": "https://localhost:8080/"
        },
        "id": "OUPaiS9QADrb",
        "outputId": "40f3b4c8-2b4a-4758-95da-1c44d850c841"
      },
      "execution_count": null,
      "outputs": [
        {
          "output_type": "stream",
          "name": "stdout",
          "text": [
            "Device on which the tensor is on: cpu\n"
          ]
        },
        {
          "output_type": "execute_result",
          "data": {
            "text/plain": [
              "torch.int32"
            ]
          },
          "metadata": {},
          "execution_count": 61
        }
      ]
    },
    {
      "cell_type": "markdown",
      "source": [
        "## Manipulating Tensors (Tensor Operations )\n",
        "\n",
        "Operations:\n",
        "* Additon\n",
        "* Multiplication (element wise (scalar multiplication) , matrix multiplication )\n",
        "* Subtraction\n",
        "* Division\n",
        "\n",
        "Can See: matrixmultiplication.xyz for visualization"
      ],
      "metadata": {
        "id": "iYCgq4me0hnH"
      }
    },
    {
      "cell_type": "code",
      "source": [
        "## Addition\n",
        "first_tensor = torch.tensor([1,2,3])\n",
        "first_tensor + 10"
      ],
      "metadata": {
        "colab": {
          "base_uri": "https://localhost:8080/"
        },
        "id": "SvasoJ_2209v",
        "outputId": "7de93c71-cad3-4301-e487-d51200dbec2e"
      },
      "execution_count": null,
      "outputs": [
        {
          "output_type": "execute_result",
          "data": {
            "text/plain": [
              "tensor([11, 12, 13])"
            ]
          },
          "metadata": {},
          "execution_count": 62
        }
      ]
    },
    {
      "cell_type": "code",
      "source": [
        "## Subtraction\n",
        "first_tensor = torch.tensor([1,2,3])\n",
        "first_tensor - 10"
      ],
      "metadata": {
        "colab": {
          "base_uri": "https://localhost:8080/"
        },
        "id": "PDISjcXN21U3",
        "outputId": "96b526a4-f28e-4077-d93f-4eec3b8006de"
      },
      "execution_count": null,
      "outputs": [
        {
          "output_type": "execute_result",
          "data": {
            "text/plain": [
              "tensor([-9, -8, -7])"
            ]
          },
          "metadata": {},
          "execution_count": 63
        }
      ]
    },
    {
      "cell_type": "code",
      "source": [
        "## Multiplication\n",
        "first_tensor = torch.tensor([1,2,3])\n",
        "first_tensor * 10"
      ],
      "metadata": {
        "colab": {
          "base_uri": "https://localhost:8080/"
        },
        "id": "P2EDniih21dv",
        "outputId": "0ac9e6ec-63b6-4acf-dc00-7e8101c96910"
      },
      "execution_count": null,
      "outputs": [
        {
          "output_type": "execute_result",
          "data": {
            "text/plain": [
              "tensor([10, 20, 30])"
            ]
          },
          "metadata": {},
          "execution_count": 65
        }
      ]
    },
    {
      "cell_type": "code",
      "source": [
        "## Divison\n",
        "first_tensor = torch.tensor([1,2,3])\n",
        "first_tensor / 10"
      ],
      "metadata": {
        "colab": {
          "base_uri": "https://localhost:8080/"
        },
        "id": "lI0Is9lx21j_",
        "outputId": "83f97a2d-cb86-490f-d9fd-a61b8c05bafb"
      },
      "execution_count": null,
      "outputs": [
        {
          "output_type": "execute_result",
          "data": {
            "text/plain": [
              "tensor([0.1000, 0.2000, 0.3000])"
            ]
          },
          "metadata": {},
          "execution_count": 66
        }
      ]
    },
    {
      "cell_type": "code",
      "source": [
        "## Element wise multiplication in tensor Matrix\n",
        "first_tensor = torch.tensor([1,2,3])\n",
        "second_tensor = torch.tensor([[1],[2],[3]])\n",
        "first_tensor * first_tensor"
      ],
      "metadata": {
        "colab": {
          "base_uri": "https://localhost:8080/"
        },
        "id": "R9avTXt321pQ",
        "outputId": "893e889a-115d-41df-bbea-75722dff2db3"
      },
      "execution_count": null,
      "outputs": [
        {
          "output_type": "execute_result",
          "data": {
            "text/plain": [
              "tensor([1, 4, 9])"
            ]
          },
          "metadata": {},
          "execution_count": 71
        }
      ]
    },
    {
      "cell_type": "code",
      "source": [
        "### Add the Result Set of the Multiplication Obtained Above\n",
        "torch.matmul(first_tensor,first_tensor)"
      ],
      "metadata": {
        "colab": {
          "base_uri": "https://localhost:8080/"
        },
        "id": "VSA8T2S_5M9k",
        "outputId": "9872e6de-186e-4583-e71d-e8bfedee4b49"
      },
      "execution_count": null,
      "outputs": [
        {
          "output_type": "execute_result",
          "data": {
            "text/plain": [
              "tensor(14)"
            ]
          },
          "metadata": {},
          "execution_count": 74
        }
      ]
    },
    {
      "cell_type": "code",
      "source": [
        "### @ stands for matrix multiplication\n",
        "first_tensor @ first_tensor"
      ],
      "metadata": {
        "colab": {
          "base_uri": "https://localhost:8080/"
        },
        "id": "R_v6Sjtr6tlB",
        "outputId": "2704a2d9-68dd-4201-f9a1-905ef36cc5be"
      },
      "execution_count": null,
      "outputs": [
        {
          "output_type": "execute_result",
          "data": {
            "text/plain": [
              "tensor(14)"
            ]
          },
          "metadata": {},
          "execution_count": 76
        }
      ]
    },
    {
      "cell_type": "code",
      "source": [
        "## torch.mm is same as torch.matmul\n",
        "## Note: torch.mm does not work for one dimensional matrix while torch.matmul works on one dimensional matrix\n",
        "torch.mm(first_tensor,first_tensor)"
      ],
      "metadata": {
        "colab": {
          "base_uri": "https://localhost:8080/",
          "height": 158
        },
        "id": "tcuuUKdz-lG0",
        "outputId": "e97e6fa5-5d50-498a-c2c3-ba1f9f4b02f7"
      },
      "execution_count": null,
      "outputs": [
        {
          "output_type": "error",
          "ename": "RuntimeError",
          "evalue": "self must be a matrix",
          "traceback": [
            "\u001b[0;31m---------------------------------------------------------------------------\u001b[0m",
            "\u001b[0;31mRuntimeError\u001b[0m                              Traceback (most recent call last)",
            "\u001b[0;32m<ipython-input-77-a36a57d1163a>\u001b[0m in \u001b[0;36m<cell line: 2>\u001b[0;34m()\u001b[0m\n\u001b[1;32m      1\u001b[0m \u001b[0;31m## torch.mm is same as torch.matmul\u001b[0m\u001b[0;34m\u001b[0m\u001b[0;34m\u001b[0m\u001b[0m\n\u001b[0;32m----> 2\u001b[0;31m \u001b[0mtorch\u001b[0m\u001b[0;34m.\u001b[0m\u001b[0mmm\u001b[0m\u001b[0;34m(\u001b[0m\u001b[0mfirst_tensor\u001b[0m\u001b[0;34m,\u001b[0m\u001b[0mfirst_tensor\u001b[0m\u001b[0;34m)\u001b[0m\u001b[0;34m\u001b[0m\u001b[0;34m\u001b[0m\u001b[0m\n\u001b[0m",
            "\u001b[0;31mRuntimeError\u001b[0m: self must be a matrix"
          ]
        }
      ]
    },
    {
      "cell_type": "code",
      "source": [
        "## Performing Matrix Multiplication of the Tensor\n",
        "first_tensor * second_tensor"
      ],
      "metadata": {
        "colab": {
          "base_uri": "https://localhost:8080/"
        },
        "id": "t1VhRe5o21t_",
        "outputId": "f922c7f3-856f-4505-88a5-2cc12e1c0693"
      },
      "execution_count": null,
      "outputs": [
        {
          "output_type": "execute_result",
          "data": {
            "text/plain": [
              "tensor([[1, 2, 3],\n",
              "        [2, 4, 6],\n",
              "        [3, 6, 9]])"
            ]
          },
          "metadata": {},
          "execution_count": 72
        }
      ]
    },
    {
      "cell_type": "code",
      "source": [
        "### Pytorch in-built functions\n",
        "torch.mul(first_tensor,10)"
      ],
      "metadata": {
        "colab": {
          "base_uri": "https://localhost:8080/"
        },
        "id": "1hh2Bt-d21yf",
        "outputId": "b25289d6-f865-42cc-8940-51a9e26c1704"
      },
      "execution_count": null,
      "outputs": [
        {
          "output_type": "execute_result",
          "data": {
            "text/plain": [
              "tensor([10, 20, 30])"
            ]
          },
          "metadata": {},
          "execution_count": 73
        }
      ]
    },
    {
      "cell_type": "code",
      "source": [
        "first_tensor = torch.tensor([[1, 3],\n",
        "                            [2, 4],\n",
        "                            [5, 6]])\n",
        "second_tensor = torch.tensor([[7, 8],\n",
        "                            [9, 10],\n",
        "                            [11, 12]])\n",
        "torch.mm(first_tensor,second_tensor)"
      ],
      "metadata": {
        "colab": {
          "base_uri": "https://localhost:8080/",
          "height": 176
        },
        "id": "nMKaBv5b213H",
        "outputId": "04928cd0-39ac-4e22-ca10-d23acc5139e6"
      },
      "execution_count": null,
      "outputs": [
        {
          "output_type": "error",
          "ename": "RuntimeError",
          "evalue": "mat1 and mat2 shapes cannot be multiplied (3x2 and 3x2)",
          "traceback": [
            "\u001b[0;31m---------------------------------------------------------------------------\u001b[0m",
            "\u001b[0;31mRuntimeError\u001b[0m                              Traceback (most recent call last)",
            "\u001b[0;32m<ipython-input-78-5730ac4dd7de>\u001b[0m in \u001b[0;36m<cell line: 7>\u001b[0;34m()\u001b[0m\n\u001b[1;32m      5\u001b[0m                             \u001b[0;34m[\u001b[0m\u001b[0;36m9\u001b[0m\u001b[0;34m,\u001b[0m \u001b[0;36m10\u001b[0m\u001b[0;34m]\u001b[0m\u001b[0;34m,\u001b[0m\u001b[0;34m\u001b[0m\u001b[0;34m\u001b[0m\u001b[0m\n\u001b[1;32m      6\u001b[0m                             [11, 12]])\n\u001b[0;32m----> 7\u001b[0;31m \u001b[0mtorch\u001b[0m\u001b[0;34m.\u001b[0m\u001b[0mmm\u001b[0m\u001b[0;34m(\u001b[0m\u001b[0mfirst_tensor\u001b[0m\u001b[0;34m,\u001b[0m\u001b[0msecond_tensor\u001b[0m\u001b[0;34m)\u001b[0m\u001b[0;34m\u001b[0m\u001b[0;34m\u001b[0m\u001b[0m\n\u001b[0m",
            "\u001b[0;31mRuntimeError\u001b[0m: mat1 and mat2 shapes cannot be multiplied (3x2 and 3x2)"
          ]
        }
      ]
    },
    {
      "cell_type": "code",
      "source": [
        "## torch.mm transpose one of the matrix so multiplication of 2 matrix which are of same type but are not square matrix results in error\n",
        "## can  resolve this by transposing one of the matrix\n",
        "first_tensor = torch.tensor([[1, 3],\n",
        "                            [2, 4],\n",
        "                            [5, 6]])\n",
        "second_tensor = torch.tensor([[7, 8],\n",
        "                            [9, 10],\n",
        "                            [11, 12]])\n",
        "\n",
        "print(f\"Original Shape: first_tensor: {first_tensor.shape}, second_tensor: {second_tensor.shape}\")\n",
        "print(f\"After Application of Transpose on Second Tensor: \\n {second_tensor.T} \\n And It's Shape: {second_tensor.T.shape}\")\n",
        "print(f\"Dimension for Matrix multilicaiton: first_tensor: {first_tensor.shape}, Second Tesnor: {second_tensor.T.shape} \")\n",
        "first_tensor,second_tensor,second_tensor.T,first_tensor.shape,second_tensor.shape,second_tensor.T.shape"
      ],
      "metadata": {
        "colab": {
          "base_uri": "https://localhost:8080/"
        },
        "id": "FIN65q3-AQym",
        "outputId": "5b27fb4a-5732-4d93-e09e-c156713e5827"
      },
      "execution_count": null,
      "outputs": [
        {
          "output_type": "stream",
          "name": "stdout",
          "text": [
            "Original Shape: first_tensor: torch.Size([3, 2]), second_tensor: torch.Size([3, 2])\n",
            "After Application of Transpose on Second Tensor: \n",
            " tensor([[ 7,  9, 11],\n",
            "        [ 8, 10, 12]]) \n",
            " And It's Shape: torch.Size([2, 3])\n",
            "Dimension for Matrix multilicaiton: first_tensor: torch.Size([3, 2]), Second Tesnor: torch.Size([2, 3]) \n"
          ]
        },
        {
          "output_type": "execute_result",
          "data": {
            "text/plain": [
              "(tensor([[1, 3],\n",
              "         [2, 4],\n",
              "         [5, 6]]),\n",
              " tensor([[ 7,  8],\n",
              "         [ 9, 10],\n",
              "         [11, 12]]),\n",
              " tensor([[ 7,  9, 11],\n",
              "         [ 8, 10, 12]]),\n",
              " torch.Size([3, 2]),\n",
              " torch.Size([3, 2]),\n",
              " torch.Size([2, 3]))"
            ]
          },
          "metadata": {},
          "execution_count": 86
        }
      ]
    },
    {
      "cell_type": "code",
      "source": [
        "torch.mm(first_tensor,second_tensor.T)"
      ],
      "metadata": {
        "colab": {
          "base_uri": "https://localhost:8080/"
        },
        "id": "oIFxLsWUBY0H",
        "outputId": "ef61a7a9-6a93-4649-b404-a691c67f39e7"
      },
      "execution_count": null,
      "outputs": [
        {
          "output_type": "execute_result",
          "data": {
            "text/plain": [
              "tensor([[ 31,  39,  47],\n",
              "        [ 46,  58,  70],\n",
              "        [ 83, 105, 127]])"
            ]
          },
          "metadata": {},
          "execution_count": 84
        }
      ]
    },
    {
      "cell_type": "markdown",
      "source": [
        "## Applying Aggregation Functions on Tensor"
      ],
      "metadata": {
        "id": "sFixal5WBlzm"
      }
    },
    {
      "cell_type": "code",
      "source": [
        "x = torch.arange(0,1000,20)\n",
        "### find the min\n",
        "torch.min(x),x.min()"
      ],
      "metadata": {
        "colab": {
          "base_uri": "https://localhost:8080/"
        },
        "id": "AEXy9xEHH0T5",
        "outputId": "feefcff1-8492-426c-aee1-0db5eb97f321"
      },
      "execution_count": null,
      "outputs": [
        {
          "output_type": "execute_result",
          "data": {
            "text/plain": [
              "(tensor(0), tensor(0))"
            ]
          },
          "metadata": {},
          "execution_count": 87
        }
      ]
    },
    {
      "cell_type": "code",
      "source": [
        "### Find the max\n",
        "torch.max(x),max(x)"
      ],
      "metadata": {
        "colab": {
          "base_uri": "https://localhost:8080/"
        },
        "id": "Xiajpy44H_gK",
        "outputId": "04a3d114-09d7-4cbb-ab8a-428b1d4f332e"
      },
      "execution_count": null,
      "outputs": [
        {
          "output_type": "execute_result",
          "data": {
            "text/plain": [
              "(tensor(980), tensor(980))"
            ]
          },
          "metadata": {},
          "execution_count": 88
        }
      ]
    },
    {
      "cell_type": "code",
      "source": [
        "### Find the mean\n",
        "### Note: Using the mean function can only find mean for datatype float, Complex data type  not int\n",
        "x = x.to(dtype=torch.float32)\n",
        "torch.mean(x),x.mean()"
      ],
      "metadata": {
        "colab": {
          "base_uri": "https://localhost:8080/"
        },
        "id": "DRLpjlFJIE7B",
        "outputId": "db2effa9-4fda-4a28-8812-417bf0a8d7bb"
      },
      "execution_count": null,
      "outputs": [
        {
          "output_type": "execute_result",
          "data": {
            "text/plain": [
              "(tensor(490.), tensor(490.))"
            ]
          },
          "metadata": {},
          "execution_count": 92
        }
      ]
    },
    {
      "cell_type": "code",
      "source": [
        "torch.sum(x),x.sum()"
      ],
      "metadata": {
        "colab": {
          "base_uri": "https://localhost:8080/"
        },
        "id": "WRrFVDvlIKka",
        "outputId": "70b9344e-803e-4619-e852-0fa3f1217c01"
      },
      "execution_count": null,
      "outputs": [
        {
          "output_type": "execute_result",
          "data": {
            "text/plain": [
              "(tensor(24500.), tensor(24500.))"
            ]
          },
          "metadata": {},
          "execution_count": 94
        }
      ]
    },
    {
      "cell_type": "code",
      "source": [],
      "metadata": {
        "id": "IlFcnunQJahR"
      },
      "execution_count": null,
      "outputs": []
    }
  ]
}