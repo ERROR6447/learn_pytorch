{
  "nbformat": 4,
  "nbformat_minor": 0,
  "metadata": {
    "colab": {
      "provenance": [],
      "authorship_tag": "ABX9TyPwHG0Ic8zTmWJwQKqf1mpc",
      "include_colab_link": true
    },
    "kernelspec": {
      "name": "python3",
      "display_name": "Python 3"
    },
    "language_info": {
      "name": "python"
    }
  },
  "cells": [
    {
      "cell_type": "markdown",
      "metadata": {
        "id": "view-in-github",
        "colab_type": "text"
      },
      "source": [
        "<a href=\"https://colab.research.google.com/github/ERROR6447/learn_pytorch/blob/Learning/00_Learning_Module.ipynb\" target=\"_parent\"><img src=\"https://colab.research.google.com/assets/colab-badge.svg\" alt=\"Open In Colab\"/></a>"
      ]
    },
    {
      "cell_type": "markdown",
      "source": [
        "#00 PyTorch Fundamentals\n",
        "\n",
        "Resources for Exercise : https://www.learnpytorch.io/00_pytorch_fundamentals/"
      ],
      "metadata": {
        "id": "QfpNdamewviF"
      }
    },
    {
      "cell_type": "code",
      "source": [
        "import torch\n",
        "import pandas as pd\n",
        "import numpy as np\n",
        "import matplotlib.pyplot"
      ],
      "metadata": {
        "id": "1MSo9BBHw9XE"
      },
      "execution_count": 1,
      "outputs": []
    },
    {
      "cell_type": "code",
      "source": [
        "torch.__version__"
      ],
      "metadata": {
        "colab": {
          "base_uri": "https://localhost:8080/",
          "height": 36
        },
        "id": "pN99JCllyeqw",
        "outputId": "8d74eef4-3952-47bb-ab12-050c6c7d64d6"
      },
      "execution_count": 2,
      "outputs": [
        {
          "output_type": "execute_result",
          "data": {
            "text/plain": [
              "'2.1.0+cu121'"
            ],
            "application/vnd.google.colaboratory.intrinsic+json": {
              "type": "string"
            }
          },
          "metadata": {},
          "execution_count": 2
        }
      ]
    },
    {
      "cell_type": "markdown",
      "source": [
        "## Introdcution to Tensors\n",
        "\n",
        "Resource : https://pytorch.org/docs/stable/tensors.html\n",
        "\n",
        "created using `torch.Tensor()`\n",
        "\n",
        "It always create a copy of the tensor instead of using the existing one for example creating a tensor from numpy array will create another copy to not create the copy and use the existing one we need to use the function described in the documetation above"
      ],
      "metadata": {
        "id": "kpAgHlFJypav"
      }
    },
    {
      "cell_type": "markdown",
      "source": [
        "### Creating a Tensor"
      ],
      "metadata": {
        "id": "aGJxFFLvzHKp"
      }
    },
    {
      "cell_type": "code",
      "source": [
        "### Scalar Tensor\n",
        "\n",
        "scalar = torch.tensor(7)\n",
        "scalar"
      ],
      "metadata": {
        "colab": {
          "base_uri": "https://localhost:8080/"
        },
        "id": "17kV2iErzKCQ",
        "outputId": "7bffb38e-4f9e-4feb-d620-d4f18a16f4c1"
      },
      "execution_count": null,
      "outputs": [
        {
          "output_type": "execute_result",
          "data": {
            "text/plain": [
              "tensor(7)"
            ]
          },
          "metadata": {},
          "execution_count": 3
        }
      ]
    },
    {
      "cell_type": "code",
      "source": [
        "## has no dimension\n",
        "scalar.ndim"
      ],
      "metadata": {
        "colab": {
          "base_uri": "https://localhost:8080/"
        },
        "id": "eTI8JqKBzS4R",
        "outputId": "4b319a63-cd13-4c9c-867e-c046b0d9d4ee"
      },
      "execution_count": null,
      "outputs": [
        {
          "output_type": "execute_result",
          "data": {
            "text/plain": [
              "0"
            ]
          },
          "metadata": {},
          "execution_count": 4
        }
      ]
    },
    {
      "cell_type": "code",
      "source": [
        "# Get Tensor Back\n",
        "scalar.item()"
      ],
      "metadata": {
        "colab": {
          "base_uri": "https://localhost:8080/"
        },
        "id": "bBBWmGVbzUTg",
        "outputId": "8f5e53a5-cdef-457c-d895-dca489031621"
      },
      "execution_count": null,
      "outputs": [
        {
          "output_type": "execute_result",
          "data": {
            "text/plain": [
              "7"
            ]
          },
          "metadata": {},
          "execution_count": 5
        }
      ]
    },
    {
      "cell_type": "code",
      "source": [
        "# Vector has mangnititude and directions and head and tail\n",
        "# has more than one number\n",
        "vector = torch.tensor([7,7])\n",
        "vector"
      ],
      "metadata": {
        "colab": {
          "base_uri": "https://localhost:8080/"
        },
        "id": "RFVkPgIU0LmZ",
        "outputId": "19e29e3a-d578-4205-b5b4-4288229a8462"
      },
      "execution_count": null,
      "outputs": [
        {
          "output_type": "execute_result",
          "data": {
            "text/plain": [
              "tensor([7, 7])"
            ]
          },
          "metadata": {},
          "execution_count": 6
        }
      ]
    },
    {
      "cell_type": "code",
      "source": [
        "# dimension number of rows present in the vecotr\n",
        "print(vector.ndim)\n",
        "# gives you the shape of the vector if only one row then will only show column else will show number of rows and couns\n",
        "print(vector.shape)"
      ],
      "metadata": {
        "colab": {
          "base_uri": "https://localhost:8080/"
        },
        "id": "KzXMKpP90V4Y",
        "outputId": "ec282578-e0a5-4a4a-d01d-ec0c0cf6da5a"
      },
      "execution_count": null,
      "outputs": [
        {
          "output_type": "stream",
          "name": "stdout",
          "text": [
            "1\n",
            "torch.Size([2])\n"
          ]
        }
      ]
    },
    {
      "cell_type": "code",
      "source": [
        "vectors = torch.tensor([[7,7,7],[7,7,7]])"
      ],
      "metadata": {
        "id": "hqzgFpAg0g4R"
      },
      "execution_count": null,
      "outputs": []
    },
    {
      "cell_type": "code",
      "source": [
        "# dimension number of rows present in the vecotr\n",
        "print(vectors.ndim)\n",
        "# number of column present in the vector\n",
        "print(vectors.shape)"
      ],
      "metadata": {
        "colab": {
          "base_uri": "https://localhost:8080/"
        },
        "id": "-2EqWYQW0jpo",
        "outputId": "ad838869-641c-4fe2-fbb5-75c77bcae95f"
      },
      "execution_count": null,
      "outputs": [
        {
          "output_type": "stream",
          "name": "stdout",
          "text": [
            "2\n",
            "torch.Size([2, 3])\n"
          ]
        }
      ]
    },
    {
      "cell_type": "code",
      "source": [
        "## For tesnor of shape 1x1 returns not result set\n",
        "print(scalar.shape)"
      ],
      "metadata": {
        "colab": {
          "base_uri": "https://localhost:8080/"
        },
        "id": "bxIKpc3D0_Sh",
        "outputId": "ceef7256-b87e-4e44-f2fd-7c4278591b80"
      },
      "execution_count": null,
      "outputs": [
        {
          "output_type": "stream",
          "name": "stdout",
          "text": [
            "torch.Size([])\n"
          ]
        }
      ]
    },
    {
      "cell_type": "code",
      "source": [
        "## MATRIX\n",
        "MATRIX = torch.tensor([[7,8],[9,10]])\n",
        "MATRIX"
      ],
      "metadata": {
        "colab": {
          "base_uri": "https://localhost:8080/"
        },
        "id": "MnNWFlvm1O3g",
        "outputId": "26ed0613-5469-4598-a5c7-fc6d87f23bdb"
      },
      "execution_count": null,
      "outputs": [
        {
          "output_type": "execute_result",
          "data": {
            "text/plain": [
              "tensor([[ 7,  8],\n",
              "        [ 9, 10]])"
            ]
          },
          "metadata": {},
          "execution_count": 11
        }
      ]
    },
    {
      "cell_type": "code",
      "source": [
        "print(MATRIX.ndim)\n",
        "print(MATRIX.shape)\n",
        "print(MATRIX[0])\n",
        "print(MATRIX[1][:])"
      ],
      "metadata": {
        "colab": {
          "base_uri": "https://localhost:8080/"
        },
        "id": "gjhC-qtq1foo",
        "outputId": "f24899c5-9d58-4a68-d9fb-8b52b667f485"
      },
      "execution_count": null,
      "outputs": [
        {
          "output_type": "stream",
          "name": "stdout",
          "text": [
            "2\n",
            "torch.Size([2, 2])\n",
            "tensor([7, 8])\n",
            "tensor([ 9, 10])\n"
          ]
        }
      ]
    },
    {
      "cell_type": "code",
      "source": [
        "#TENSOR\n",
        "TENSOR = torch.tensor([[[1,2,3],\n",
        "                        [4,6,7],\n",
        "                        [7,8,9]]])\n",
        "TENSOR"
      ],
      "metadata": {
        "colab": {
          "base_uri": "https://localhost:8080/"
        },
        "id": "xyhtneKi1n3I",
        "outputId": "5ec09212-46db-4919-d509-452bcfe35c25"
      },
      "execution_count": null,
      "outputs": [
        {
          "output_type": "execute_result",
          "data": {
            "text/plain": [
              "tensor([[[1, 2, 3],\n",
              "         [4, 6, 7],\n",
              "         [7, 8, 9]]])"
            ]
          },
          "metadata": {},
          "execution_count": 13
        }
      ]
    },
    {
      "cell_type": "code",
      "source": [
        "print(TENSOR.ndim)\n",
        "print(TENSOR.shape)\n"
      ],
      "metadata": {
        "colab": {
          "base_uri": "https://localhost:8080/"
        },
        "id": "tRAJXaWm4ykx",
        "outputId": "d73c4fb6-232f-4112-9355-8c0850a1bcea"
      },
      "execution_count": null,
      "outputs": [
        {
          "output_type": "stream",
          "name": "stdout",
          "text": [
            "3\n",
            "torch.Size([1, 3, 3])\n"
          ]
        }
      ]
    },
    {
      "cell_type": "markdown",
      "source": [
        "Summary :\n",
        "\n",
        "a scalar and vector is often represented by a lower case \\\\\n",
        "while the martix and tensor are represented by a upper case"
      ],
      "metadata": {
        "id": "3TO4LO-e5po3"
      }
    },
    {
      "cell_type": "markdown",
      "source": [
        "### Creating a Random Tensor\n",
        "\n",
        "These are important becuase most nerual network learning process starts with tensors full of random number and these numbers are adjusted as they learn to better represent the data. \\\\\n",
        "\n",
        "`Start with random number - > look at data -> update random number -> look at the data -> update random number`\n",
        "\\\\\n",
        "continue till criteria for stopping is achieved \\\\\n",
        "Resources: https://pytorch.org/docs/stable/generated/torch.rand.html"
      ],
      "metadata": {
        "id": "O4dF-IYq47E5"
      }
    },
    {
      "cell_type": "code",
      "source": [
        "##RANDOM Tensor\n",
        "random_tensor = torch.rand (3,4)\n",
        "random_tensor"
      ],
      "metadata": {
        "colab": {
          "base_uri": "https://localhost:8080/"
        },
        "id": "YDP4jdix5Zl4",
        "outputId": "856931c6-5699-45eb-bc41-bcfc0bc9313f"
      },
      "execution_count": null,
      "outputs": [
        {
          "output_type": "execute_result",
          "data": {
            "text/plain": [
              "tensor([[0.6953, 0.5127, 0.9175, 0.6683],\n",
              "        [0.3396, 0.6634, 0.6006, 0.1950],\n",
              "        [0.7233, 0.9942, 0.1960, 0.5551]])"
            ]
          },
          "metadata": {},
          "execution_count": 15
        }
      ]
    },
    {
      "cell_type": "code",
      "source": [
        "print(random_tensor.ndim)\n",
        "print(random_tensor.shape)"
      ],
      "metadata": {
        "colab": {
          "base_uri": "https://localhost:8080/"
        },
        "id": "e5XgG9US6jDR",
        "outputId": "07c0a02a-6bf8-454c-d8d8-382adfde586d"
      },
      "execution_count": null,
      "outputs": [
        {
          "output_type": "stream",
          "name": "stdout",
          "text": [
            "2\n",
            "torch.Size([3, 4])\n"
          ]
        }
      ]
    },
    {
      "cell_type": "code",
      "source": [
        "### Creating a random tensor with similar shape to an image tensor\n",
        "### Sometimes the color channels comes first so 3,244,244 => color_channel,width,height\n",
        "random_image_size_tensor = torch.rand(size=(224,224,3)) # height, width, colour channels (R,G,B)\n",
        "random_image_size_tensor.shape,random_image_size_tensor.ndim"
      ],
      "metadata": {
        "colab": {
          "base_uri": "https://localhost:8080/"
        },
        "id": "yEHKnNJx62-h",
        "outputId": "bc1d2861-ccfc-498f-ebbb-e083c8f03ff4"
      },
      "execution_count": null,
      "outputs": [
        {
          "output_type": "execute_result",
          "data": {
            "text/plain": [
              "(torch.Size([224, 224, 3]), 3)"
            ]
          },
          "metadata": {},
          "execution_count": 17
        }
      ]
    },
    {
      "cell_type": "markdown",
      "source": [
        "## Zeros and Ones"
      ],
      "metadata": {
        "id": "JN5Q-hGf838i"
      }
    },
    {
      "cell_type": "code",
      "source": [
        "### Creaitng a  tesnor of all zeros\n",
        "zeros = torch.zeros(size=(3,4))\n",
        "zeros"
      ],
      "metadata": {
        "colab": {
          "base_uri": "https://localhost:8080/"
        },
        "id": "JtZPz_zw892A",
        "outputId": "ea0b4656-5fca-4dd6-9ecc-2b608ff79fab"
      },
      "execution_count": null,
      "outputs": [
        {
          "output_type": "execute_result",
          "data": {
            "text/plain": [
              "tensor([[0., 0., 0., 0.],\n",
              "        [0., 0., 0., 0.],\n",
              "        [0., 0., 0., 0.]])"
            ]
          },
          "metadata": {},
          "execution_count": 18
        }
      ]
    },
    {
      "cell_type": "code",
      "source": [
        " zeros.shape,random_tensor.shape"
      ],
      "metadata": {
        "colab": {
          "base_uri": "https://localhost:8080/"
        },
        "id": "1o6FhuAR9B85",
        "outputId": "fc90cf30-fe83-4bf7-fa0a-d5c426c6848b"
      },
      "execution_count": null,
      "outputs": [
        {
          "output_type": "execute_result",
          "data": {
            "text/plain": [
              "(torch.Size([3, 4]), torch.Size([3, 4]))"
            ]
          },
          "metadata": {},
          "execution_count": 19
        }
      ]
    },
    {
      "cell_type": "code",
      "source": [
        "zeros*random_tensor"
      ],
      "metadata": {
        "colab": {
          "base_uri": "https://localhost:8080/"
        },
        "id": "MADkVpEJ9QHh",
        "outputId": "3441c079-9918-4755-adca-1f550b988843"
      },
      "execution_count": null,
      "outputs": [
        {
          "output_type": "execute_result",
          "data": {
            "text/plain": [
              "tensor([[0., 0., 0., 0.],\n",
              "        [0., 0., 0., 0.],\n",
              "        [0., 0., 0., 0.]])"
            ]
          },
          "metadata": {},
          "execution_count": 20
        }
      ]
    },
    {
      "cell_type": "code",
      "source": [
        "### Creating Tensor of all ones\n",
        "ones = torch.ones(size=(3,4))\n",
        "ones"
      ],
      "metadata": {
        "colab": {
          "base_uri": "https://localhost:8080/"
        },
        "id": "_BlLP5gD9hab",
        "outputId": "032c668d-e031-4e6a-9d14-fd182dfe396a"
      },
      "execution_count": null,
      "outputs": [
        {
          "output_type": "execute_result",
          "data": {
            "text/plain": [
              "tensor([[1., 1., 1., 1.],\n",
              "        [1., 1., 1., 1.],\n",
              "        [1., 1., 1., 1.]])"
            ]
          },
          "metadata": {},
          "execution_count": 21
        }
      ]
    },
    {
      "cell_type": "code",
      "source": [
        "## dtype is the type of the element of the datatype\n",
        "ones.shape,ones.dtype"
      ],
      "metadata": {
        "colab": {
          "base_uri": "https://localhost:8080/"
        },
        "id": "WskiV0oj9tPh",
        "outputId": "2d414652-4aa1-4a9d-c068-fee20ad9460c"
      },
      "execution_count": null,
      "outputs": [
        {
          "output_type": "execute_result",
          "data": {
            "text/plain": [
              "(torch.Size([3, 4]), torch.float32)"
            ]
          },
          "metadata": {},
          "execution_count": 22
        }
      ]
    },
    {
      "cell_type": "code",
      "source": [
        "ones_with_diff_dtype = torch.ones(size=(3,4),dtype=torch.int32)\n",
        "ones_with_diff_dtype.shape,ones_with_diff_dtype.dtype"
      ],
      "metadata": {
        "colab": {
          "base_uri": "https://localhost:8080/"
        },
        "id": "9oxeFKlb9zQa",
        "outputId": "382413be-3402-485a-8aaa-26625c797aee"
      },
      "execution_count": null,
      "outputs": [
        {
          "output_type": "execute_result",
          "data": {
            "text/plain": [
              "(torch.Size([3, 4]), torch.int32)"
            ]
          },
          "metadata": {},
          "execution_count": 23
        }
      ]
    },
    {
      "cell_type": "markdown",
      "source": [
        "## Creating a range of Tensors and Tensors like"
      ],
      "metadata": {
        "id": "ArKt6-0k99Qs"
      }
    },
    {
      "cell_type": "code",
      "source": [
        "# user torch.range()\n",
        "torch.range(0,10)\n"
      ],
      "metadata": {
        "colab": {
          "base_uri": "https://localhost:8080/"
        },
        "id": "slfxJp9g-LYx",
        "outputId": "e11374d7-649b-4624-f1ad-b7cc931e73d4"
      },
      "execution_count": null,
      "outputs": [
        {
          "output_type": "stream",
          "name": "stderr",
          "text": [
            "<ipython-input-24-b8b6d4ee4e85>:2: UserWarning: torch.range is deprecated and will be removed in a future release because its behavior is inconsistent with Python's range builtin. Instead, use torch.arange, which produces values in [start, end).\n",
            "  torch.range(0,10)\n"
          ]
        },
        {
          "output_type": "execute_result",
          "data": {
            "text/plain": [
              "tensor([ 0.,  1.,  2.,  3.,  4.,  5.,  6.,  7.,  8.,  9., 10.])"
            ]
          },
          "metadata": {},
          "execution_count": 24
        }
      ]
    },
    {
      "cell_type": "code",
      "source": [
        "# create a range with start and end (Not Couting it ) and default step is 1\n",
        "torch.arange(0,10)"
      ],
      "metadata": {
        "colab": {
          "base_uri": "https://localhost:8080/"
        },
        "id": "q1mfTAhi-OhQ",
        "outputId": "4ef96e2a-913c-4bbb-ecd0-c6a9ec5489e2"
      },
      "execution_count": null,
      "outputs": [
        {
          "output_type": "execute_result",
          "data": {
            "text/plain": [
              "tensor([0, 1, 2, 3, 4, 5, 6, 7, 8, 9])"
            ]
          },
          "metadata": {},
          "execution_count": 25
        }
      ]
    },
    {
      "cell_type": "code",
      "source": [
        "# with change in step szie\n",
        "torch.arange(start= 0,end = 15,step = 2)"
      ],
      "metadata": {
        "colab": {
          "base_uri": "https://localhost:8080/"
        },
        "id": "zhht_DcH-afb",
        "outputId": "9a1fd93d-1598-4d7f-ec45-09a00a93de33"
      },
      "execution_count": null,
      "outputs": [
        {
          "output_type": "execute_result",
          "data": {
            "text/plain": [
              "tensor([ 0,  2,  4,  6,  8, 10, 12, 14])"
            ]
          },
          "metadata": {},
          "execution_count": 26
        }
      ]
    },
    {
      "cell_type": "markdown",
      "source": [
        "## For Creating a like tensor similar to other tensor\n",
        "look for methods previsouly used for creating the tensor and those should have _like appended to them at the end of the function call"
      ],
      "metadata": {
        "id": "D1pD9MYY_q88"
      }
    },
    {
      "cell_type": "code",
      "source": [
        "## Cerating tensor like where we want shape as that of other tensor without explicitly specifying the shape of the tensor\n",
        "zeros = torch.zeros(3,3)\n",
        "like_the_above_tensor = torch.zeros_like(input=zeros)\n",
        "like_the_above_tensor"
      ],
      "metadata": {
        "colab": {
          "base_uri": "https://localhost:8080/"
        },
        "id": "jhmRlKjW-oET",
        "outputId": "41e55d12-ea7d-4571-b461-2a633db7a13d"
      },
      "execution_count": null,
      "outputs": [
        {
          "output_type": "execute_result",
          "data": {
            "text/plain": [
              "tensor([[0., 0., 0.],\n",
              "        [0., 0., 0.],\n",
              "        [0., 0., 0.]])"
            ]
          },
          "metadata": {},
          "execution_count": 27
        }
      ]
    },
    {
      "cell_type": "code",
      "source": [
        "zeros = torch.zeros(3,3)\n",
        "like_the_above_tensor = torch.ones_like(input=zeros)\n",
        "like_the_above_tensor"
      ],
      "metadata": {
        "colab": {
          "base_uri": "https://localhost:8080/"
        },
        "id": "gxWFR62n-5t8",
        "outputId": "5492b52f-31c5-4143-acbe-1e6bb3eecf49"
      },
      "execution_count": null,
      "outputs": [
        {
          "output_type": "execute_result",
          "data": {
            "text/plain": [
              "tensor([[1., 1., 1.],\n",
              "        [1., 1., 1.],\n",
              "        [1., 1., 1.]])"
            ]
          },
          "metadata": {},
          "execution_count": 28
        }
      ]
    },
    {
      "cell_type": "code",
      "source": [
        "zeros = torch.zeros(3,3)\n",
        "like_the_above_tensor = torch.rand_like(input=zeros)\n",
        "like_the_above_tensor"
      ],
      "metadata": {
        "colab": {
          "base_uri": "https://localhost:8080/"
        },
        "id": "MjPyW8vw_eb7",
        "outputId": "d21dc8f6-f846-4764-90d9-e6c7b3241fa6"
      },
      "execution_count": null,
      "outputs": [
        {
          "output_type": "execute_result",
          "data": {
            "text/plain": [
              "tensor([[0.6029, 0.3426, 0.2302],\n",
              "        [0.3444, 0.0615, 0.3130],\n",
              "        [0.5566, 0.0247, 0.8032]])"
            ]
          },
          "metadata": {},
          "execution_count": 29
        }
      ]
    },
    {
      "cell_type": "markdown",
      "source": [
        "## Tensor Data Types\n",
        "Default data type for tensors is float32\n",
        "\n",
        "**Note: ** Tensor datatypes is one of the 3 big error we'll run into with PyTorch and Deep Learning\n",
        "1. Tensors are not right datatype\n",
        "2. Tensors not right shape\n",
        "3. Tensors not on the right device"
      ],
      "metadata": {
        "id": "-EM-n5jx_iDL"
      }
    },
    {
      "cell_type": "code",
      "source": [
        "none_data_type = torch.rand(size=(1,3),dtype=None)\n",
        "none_data_type,none_data_type.dtype"
      ],
      "metadata": {
        "colab": {
          "base_uri": "https://localhost:8080/"
        },
        "id": "PLrTfeQeACOE",
        "outputId": "bccc0f4c-5f9c-4c90-dc83-4bb3adc22192"
      },
      "execution_count": null,
      "outputs": [
        {
          "output_type": "execute_result",
          "data": {
            "text/plain": [
              "(tensor([[0.2375, 0.8944, 0.8021]]), torch.float32)"
            ]
          },
          "metadata": {},
          "execution_count": 31
        }
      ]
    },
    {
      "cell_type": "code",
      "source": [
        "## Changing the data type of the tensor\n",
        "none_data_type = torch.rand(size=(1,3),dtype=torch.float16)\n",
        "none_data_type,none_data_type.dtype"
      ],
      "metadata": {
        "colab": {
          "base_uri": "https://localhost:8080/"
        },
        "id": "5UCR0X_KACuc",
        "outputId": "b1b7039a-0eca-49e8-e50b-c19ceba8273d"
      },
      "execution_count": null,
      "outputs": [
        {
          "output_type": "execute_result",
          "data": {
            "text/plain": [
              "(tensor([[0.2661, 0.6592, 0.1919]], dtype=torch.float16), torch.float16)"
            ]
          },
          "metadata": {},
          "execution_count": 30
        }
      ]
    },
    {
      "cell_type": "markdown",
      "source": [
        "dtype: What datatype is the tensor \\\\\n",
        "device: which device is your tensor on cpu or gpu \\\\\n",
        "requires_grad: Whether or not to track gradients with this tensors operations \\\\\n",
        "\n",
        "**Note:** rand function is only implemented to create float data type tensor"
      ],
      "metadata": {
        "id": "iTzeLzFJrLkC"
      }
    },
    {
      "cell_type": "code",
      "source": [
        "###\n",
        "none_data_type = torch.rand(size=(1,3),\n",
        "                            dtype=None,  ## type of data of array elements\n",
        "                            device=None,  ## by default it's 'CPU' when using gpu can write 'cuda'\n",
        "                            requires_grad = False) ## When we want PyTorch to Watch Gradient when the tensor goes through numeric calculation\n",
        "none_data_type,none_data_type.dtype"
      ],
      "metadata": {
        "colab": {
          "base_uri": "https://localhost:8080/"
        },
        "id": "S0DRe3cSADKU",
        "outputId": "bf68e76a-2898-4070-c818-779545724384"
      },
      "execution_count": null,
      "outputs": [
        {
          "output_type": "execute_result",
          "data": {
            "text/plain": [
              "(tensor([[0.6772, 0.2447, 0.1697]]), torch.float32)"
            ]
          },
          "metadata": {},
          "execution_count": 43
        }
      ]
    },
    {
      "cell_type": "code",
      "source": [
        "## covnerting the data type of the tensors\n",
        "float_16_tensor = none_data_type.type(torch.float16)\n",
        "float_16_tensor, float_16_tensor.dtype"
      ],
      "metadata": {
        "colab": {
          "base_uri": "https://localhost:8080/"
        },
        "id": "NFteTs9wADQU",
        "outputId": "b6ce14a7-bf14-4122-b3fa-d32499fdd724"
      },
      "execution_count": null,
      "outputs": [
        {
          "output_type": "execute_result",
          "data": {
            "text/plain": [
              "(tensor([[0.6772, 0.2446, 0.1697]], dtype=torch.float16), torch.float16)"
            ]
          },
          "metadata": {},
          "execution_count": 46
        }
      ]
    },
    {
      "cell_type": "code",
      "source": [
        "new_data_type = none_data_type * float_16_tensor\n",
        "new_data_type, new_data_type.dtype"
      ],
      "metadata": {
        "colab": {
          "base_uri": "https://localhost:8080/"
        },
        "id": "QBpuhw9AADVc",
        "outputId": "741b67f5-52e4-427c-8648-afa0e6879d7a"
      },
      "execution_count": null,
      "outputs": [
        {
          "output_type": "execute_result",
          "data": {
            "text/plain": [
              "(tensor([[0.4586, 0.0599, 0.0288]]), torch.float32)"
            ]
          },
          "metadata": {},
          "execution_count": 47
        }
      ]
    },
    {
      "cell_type": "markdown",
      "source": [
        "### Getting information from the tensor\n",
        "\n",
        "1. dtype: get the type of the tensor\n",
        "2. shape: get the shape of the tensor\n",
        "3. device: get the device of the tensor\n",
        "4. size() : can also use this function to get the size of the tensor"
      ],
      "metadata": {
        "id": "ckPrIUOYADad"
      }
    },
    {
      "cell_type": "code",
      "source": [
        "### getting the information about the tensor can use tensor.dtype\n",
        "new_tensor = torch.tensor([1,2,3,4,5],dtype=None)\n",
        "new_tensor,new_tensor.dtype"
      ],
      "metadata": {
        "colab": {
          "base_uri": "https://localhost:8080/"
        },
        "id": "ph4GQ0ANADe0",
        "outputId": "75d1c11e-bb8e-4975-bbc9-082b69a42799"
      },
      "execution_count": null,
      "outputs": [
        {
          "output_type": "execute_result",
          "data": {
            "text/plain": [
              "(tensor([1, 2, 3, 4, 5]), torch.int64)"
            ]
          },
          "metadata": {},
          "execution_count": 49
        }
      ]
    },
    {
      "cell_type": "code",
      "source": [
        "### Getting the shape of the tensor we can  use tensor.shape\n",
        "new_tensor.shape"
      ],
      "metadata": {
        "colab": {
          "base_uri": "https://localhost:8080/"
        },
        "id": "32YpKKxGADjL",
        "outputId": "efcb3c5b-1a5b-468a-b5ac-9e287ee36c40"
      },
      "execution_count": null,
      "outputs": [
        {
          "output_type": "execute_result",
          "data": {
            "text/plain": [
              "torch.Size([5])"
            ]
          },
          "metadata": {},
          "execution_count": 50
        }
      ]
    },
    {
      "cell_type": "code",
      "source": [
        "### Getting the device on which the tensor exists we can use tensor.device\n",
        "new_tensor.device"
      ],
      "metadata": {
        "colab": {
          "base_uri": "https://localhost:8080/"
        },
        "id": "92JX9V_6ADnE",
        "outputId": "4cea32f0-de97-4dec-c334-c90fb38a2c48"
      },
      "execution_count": null,
      "outputs": [
        {
          "output_type": "execute_result",
          "data": {
            "text/plain": [
              "device(type='cpu')"
            ]
          },
          "metadata": {},
          "execution_count": 51
        }
      ]
    },
    {
      "cell_type": "code",
      "source": [
        "### Get the number of gpus present on the system\n",
        "print(f'Number of GPUS available: {torch.cuda.device_count()}')\n",
        "print('Can use this device using the function : torch.device(cuda:{which number of gpu we want to use starting from 0 to nubmer_of_gpu -1)')\n"
      ],
      "metadata": {
        "colab": {
          "base_uri": "https://localhost:8080/"
        },
        "id": "lgnbHHzO1tWv",
        "outputId": "3414cf89-8a56-4b33-d363-d645646b292a"
      },
      "execution_count": null,
      "outputs": [
        {
          "output_type": "stream",
          "name": "stdout",
          "text": [
            "Number of GPUS available: 0\n",
            "Can use this device using the function : torch.device(cuda:{which number of gpu we want to use starting from 0 to nubmer_of_gpu -1)\n"
          ]
        }
      ]
    },
    {
      "cell_type": "code",
      "source": [
        "## creating a tensor with new type and change the device on which the tensor is on\n",
        "new_test_tensor = torch.rand([1,2,3,4,5],dtype= torch.float16)\n",
        "print(f'Device on which the tensor is on: {new_test_tensor.device}')\n",
        "new_tensor_with_dff = new_test_tensor.to(dtype=torch.int32)\n",
        "## Sample Code to change the device on which the tensor is on:\n",
        "## new_tensor_with_dff = new_test_tensor.to(dtype=torch.int32,device=torch.device('cuda:0'))\n",
        "\n",
        "new_tensor_with_dff.dtype"
      ],
      "metadata": {
        "colab": {
          "base_uri": "https://localhost:8080/"
        },
        "id": "OUPaiS9QADrb",
        "outputId": "40f3b4c8-2b4a-4758-95da-1c44d850c841"
      },
      "execution_count": null,
      "outputs": [
        {
          "output_type": "stream",
          "name": "stdout",
          "text": [
            "Device on which the tensor is on: cpu\n"
          ]
        },
        {
          "output_type": "execute_result",
          "data": {
            "text/plain": [
              "torch.int32"
            ]
          },
          "metadata": {},
          "execution_count": 61
        }
      ]
    },
    {
      "cell_type": "markdown",
      "source": [
        "## Manipulating Tensors (Tensor Operations )\n",
        "\n",
        "Operations:\n",
        "* Additon\n",
        "* Multiplication (element wise (scalar multiplication) , matrix multiplication )\n",
        "* Subtraction\n",
        "* Division\n",
        "\n",
        "Can See: matrixmultiplication.xyz for visualization"
      ],
      "metadata": {
        "id": "iYCgq4me0hnH"
      }
    },
    {
      "cell_type": "code",
      "source": [
        "## Addition\n",
        "first_tensor = torch.tensor([1,2,3])\n",
        "first_tensor + 10"
      ],
      "metadata": {
        "colab": {
          "base_uri": "https://localhost:8080/"
        },
        "id": "SvasoJ_2209v",
        "outputId": "7de93c71-cad3-4301-e487-d51200dbec2e"
      },
      "execution_count": null,
      "outputs": [
        {
          "output_type": "execute_result",
          "data": {
            "text/plain": [
              "tensor([11, 12, 13])"
            ]
          },
          "metadata": {},
          "execution_count": 62
        }
      ]
    },
    {
      "cell_type": "code",
      "source": [
        "## Subtraction\n",
        "first_tensor = torch.tensor([1,2,3])\n",
        "first_tensor - 10"
      ],
      "metadata": {
        "colab": {
          "base_uri": "https://localhost:8080/"
        },
        "id": "PDISjcXN21U3",
        "outputId": "96b526a4-f28e-4077-d93f-4eec3b8006de"
      },
      "execution_count": null,
      "outputs": [
        {
          "output_type": "execute_result",
          "data": {
            "text/plain": [
              "tensor([-9, -8, -7])"
            ]
          },
          "metadata": {},
          "execution_count": 63
        }
      ]
    },
    {
      "cell_type": "code",
      "source": [
        "## Multiplication\n",
        "first_tensor = torch.tensor([1,2,3])\n",
        "first_tensor * 10"
      ],
      "metadata": {
        "colab": {
          "base_uri": "https://localhost:8080/"
        },
        "id": "P2EDniih21dv",
        "outputId": "0ac9e6ec-63b6-4acf-dc00-7e8101c96910"
      },
      "execution_count": null,
      "outputs": [
        {
          "output_type": "execute_result",
          "data": {
            "text/plain": [
              "tensor([10, 20, 30])"
            ]
          },
          "metadata": {},
          "execution_count": 65
        }
      ]
    },
    {
      "cell_type": "code",
      "source": [
        "## Divison\n",
        "first_tensor = torch.tensor([1,2,3])\n",
        "first_tensor / 10"
      ],
      "metadata": {
        "colab": {
          "base_uri": "https://localhost:8080/"
        },
        "id": "lI0Is9lx21j_",
        "outputId": "83f97a2d-cb86-490f-d9fd-a61b8c05bafb"
      },
      "execution_count": null,
      "outputs": [
        {
          "output_type": "execute_result",
          "data": {
            "text/plain": [
              "tensor([0.1000, 0.2000, 0.3000])"
            ]
          },
          "metadata": {},
          "execution_count": 66
        }
      ]
    },
    {
      "cell_type": "code",
      "source": [
        "## Element wise multiplication in tensor Matrix\n",
        "first_tensor = torch.tensor([1,2,3])\n",
        "second_tensor = torch.tensor([[1],[2],[3]])\n",
        "first_tensor * first_tensor"
      ],
      "metadata": {
        "colab": {
          "base_uri": "https://localhost:8080/"
        },
        "id": "R9avTXt321pQ",
        "outputId": "893e889a-115d-41df-bbea-75722dff2db3"
      },
      "execution_count": null,
      "outputs": [
        {
          "output_type": "execute_result",
          "data": {
            "text/plain": [
              "tensor([1, 4, 9])"
            ]
          },
          "metadata": {},
          "execution_count": 71
        }
      ]
    },
    {
      "cell_type": "code",
      "source": [
        "### Add the Result Set of the Multiplication Obtained Above\n",
        "torch.matmul(first_tensor,first_tensor)"
      ],
      "metadata": {
        "colab": {
          "base_uri": "https://localhost:8080/"
        },
        "id": "VSA8T2S_5M9k",
        "outputId": "9872e6de-186e-4583-e71d-e8bfedee4b49"
      },
      "execution_count": null,
      "outputs": [
        {
          "output_type": "execute_result",
          "data": {
            "text/plain": [
              "tensor(14)"
            ]
          },
          "metadata": {},
          "execution_count": 74
        }
      ]
    },
    {
      "cell_type": "code",
      "source": [
        "### @ stands for matrix multiplication\n",
        "first_tensor @ first_tensor"
      ],
      "metadata": {
        "colab": {
          "base_uri": "https://localhost:8080/"
        },
        "id": "R_v6Sjtr6tlB",
        "outputId": "2704a2d9-68dd-4201-f9a1-905ef36cc5be"
      },
      "execution_count": null,
      "outputs": [
        {
          "output_type": "execute_result",
          "data": {
            "text/plain": [
              "tensor(14)"
            ]
          },
          "metadata": {},
          "execution_count": 76
        }
      ]
    },
    {
      "cell_type": "code",
      "source": [
        "## torch.mm is same as torch.matmul\n",
        "## Note: torch.mm does not work for one dimensional matrix while torch.matmul works on one dimensional matrix\n",
        "torch.mm(first_tensor,first_tensor)"
      ],
      "metadata": {
        "colab": {
          "base_uri": "https://localhost:8080/",
          "height": 158
        },
        "id": "tcuuUKdz-lG0",
        "outputId": "e97e6fa5-5d50-498a-c2c3-ba1f9f4b02f7"
      },
      "execution_count": null,
      "outputs": [
        {
          "output_type": "error",
          "ename": "RuntimeError",
          "evalue": "self must be a matrix",
          "traceback": [
            "\u001b[0;31m---------------------------------------------------------------------------\u001b[0m",
            "\u001b[0;31mRuntimeError\u001b[0m                              Traceback (most recent call last)",
            "\u001b[0;32m<ipython-input-77-a36a57d1163a>\u001b[0m in \u001b[0;36m<cell line: 2>\u001b[0;34m()\u001b[0m\n\u001b[1;32m      1\u001b[0m \u001b[0;31m## torch.mm is same as torch.matmul\u001b[0m\u001b[0;34m\u001b[0m\u001b[0;34m\u001b[0m\u001b[0m\n\u001b[0;32m----> 2\u001b[0;31m \u001b[0mtorch\u001b[0m\u001b[0;34m.\u001b[0m\u001b[0mmm\u001b[0m\u001b[0;34m(\u001b[0m\u001b[0mfirst_tensor\u001b[0m\u001b[0;34m,\u001b[0m\u001b[0mfirst_tensor\u001b[0m\u001b[0;34m)\u001b[0m\u001b[0;34m\u001b[0m\u001b[0;34m\u001b[0m\u001b[0m\n\u001b[0m",
            "\u001b[0;31mRuntimeError\u001b[0m: self must be a matrix"
          ]
        }
      ]
    },
    {
      "cell_type": "code",
      "source": [
        "## Performing Matrix Multiplication of the Tensor\n",
        "first_tensor * second_tensor"
      ],
      "metadata": {
        "colab": {
          "base_uri": "https://localhost:8080/"
        },
        "id": "t1VhRe5o21t_",
        "outputId": "f922c7f3-856f-4505-88a5-2cc12e1c0693"
      },
      "execution_count": null,
      "outputs": [
        {
          "output_type": "execute_result",
          "data": {
            "text/plain": [
              "tensor([[1, 2, 3],\n",
              "        [2, 4, 6],\n",
              "        [3, 6, 9]])"
            ]
          },
          "metadata": {},
          "execution_count": 72
        }
      ]
    },
    {
      "cell_type": "code",
      "source": [
        "### Pytorch in-built functions\n",
        "torch.mul(first_tensor,10)"
      ],
      "metadata": {
        "colab": {
          "base_uri": "https://localhost:8080/"
        },
        "id": "1hh2Bt-d21yf",
        "outputId": "b25289d6-f865-42cc-8940-51a9e26c1704"
      },
      "execution_count": null,
      "outputs": [
        {
          "output_type": "execute_result",
          "data": {
            "text/plain": [
              "tensor([10, 20, 30])"
            ]
          },
          "metadata": {},
          "execution_count": 73
        }
      ]
    },
    {
      "cell_type": "code",
      "source": [
        "first_tensor = torch.tensor([[1, 3],\n",
        "                            [2, 4],\n",
        "                            [5, 6]])\n",
        "second_tensor = torch.tensor([[7, 8],\n",
        "                            [9, 10],\n",
        "                            [11, 12]])\n",
        "torch.mm(first_tensor,second_tensor)"
      ],
      "metadata": {
        "colab": {
          "base_uri": "https://localhost:8080/",
          "height": 176
        },
        "id": "nMKaBv5b213H",
        "outputId": "04928cd0-39ac-4e22-ca10-d23acc5139e6"
      },
      "execution_count": null,
      "outputs": [
        {
          "output_type": "error",
          "ename": "RuntimeError",
          "evalue": "mat1 and mat2 shapes cannot be multiplied (3x2 and 3x2)",
          "traceback": [
            "\u001b[0;31m---------------------------------------------------------------------------\u001b[0m",
            "\u001b[0;31mRuntimeError\u001b[0m                              Traceback (most recent call last)",
            "\u001b[0;32m<ipython-input-78-5730ac4dd7de>\u001b[0m in \u001b[0;36m<cell line: 7>\u001b[0;34m()\u001b[0m\n\u001b[1;32m      5\u001b[0m                             \u001b[0;34m[\u001b[0m\u001b[0;36m9\u001b[0m\u001b[0;34m,\u001b[0m \u001b[0;36m10\u001b[0m\u001b[0;34m]\u001b[0m\u001b[0;34m,\u001b[0m\u001b[0;34m\u001b[0m\u001b[0;34m\u001b[0m\u001b[0m\n\u001b[1;32m      6\u001b[0m                             [11, 12]])\n\u001b[0;32m----> 7\u001b[0;31m \u001b[0mtorch\u001b[0m\u001b[0;34m.\u001b[0m\u001b[0mmm\u001b[0m\u001b[0;34m(\u001b[0m\u001b[0mfirst_tensor\u001b[0m\u001b[0;34m,\u001b[0m\u001b[0msecond_tensor\u001b[0m\u001b[0;34m)\u001b[0m\u001b[0;34m\u001b[0m\u001b[0;34m\u001b[0m\u001b[0m\n\u001b[0m",
            "\u001b[0;31mRuntimeError\u001b[0m: mat1 and mat2 shapes cannot be multiplied (3x2 and 3x2)"
          ]
        }
      ]
    },
    {
      "cell_type": "code",
      "source": [
        "## torch.mm transpose one of the matrix so multiplication of 2 matrix which are of same type but are not square matrix results in error\n",
        "## can  resolve this by transposing one of the matrix\n",
        "first_tensor = torch.tensor([[1, 3],\n",
        "                            [2, 4],\n",
        "                            [5, 6]])\n",
        "second_tensor = torch.tensor([[7, 8],\n",
        "                            [9, 10],\n",
        "                            [11, 12]])\n",
        "\n",
        "print(f\"Original Shape: first_tensor: {first_tensor.shape}, second_tensor: {second_tensor.shape}\")\n",
        "print(f\"After Application of Transpose on Second Tensor: \\n {second_tensor.T} \\n And It's Shape: {second_tensor.T.shape}\")\n",
        "print(f\"Dimension for Matrix multilicaiton: first_tensor: {first_tensor.shape}, Second Tesnor: {second_tensor.T.shape} \")\n",
        "first_tensor,second_tensor,second_tensor.T,first_tensor.shape,second_tensor.shape,second_tensor.T.shape"
      ],
      "metadata": {
        "colab": {
          "base_uri": "https://localhost:8080/"
        },
        "id": "FIN65q3-AQym",
        "outputId": "5b27fb4a-5732-4d93-e09e-c156713e5827"
      },
      "execution_count": null,
      "outputs": [
        {
          "output_type": "stream",
          "name": "stdout",
          "text": [
            "Original Shape: first_tensor: torch.Size([3, 2]), second_tensor: torch.Size([3, 2])\n",
            "After Application of Transpose on Second Tensor: \n",
            " tensor([[ 7,  9, 11],\n",
            "        [ 8, 10, 12]]) \n",
            " And It's Shape: torch.Size([2, 3])\n",
            "Dimension for Matrix multilicaiton: first_tensor: torch.Size([3, 2]), Second Tesnor: torch.Size([2, 3]) \n"
          ]
        },
        {
          "output_type": "execute_result",
          "data": {
            "text/plain": [
              "(tensor([[1, 3],\n",
              "         [2, 4],\n",
              "         [5, 6]]),\n",
              " tensor([[ 7,  8],\n",
              "         [ 9, 10],\n",
              "         [11, 12]]),\n",
              " tensor([[ 7,  9, 11],\n",
              "         [ 8, 10, 12]]),\n",
              " torch.Size([3, 2]),\n",
              " torch.Size([3, 2]),\n",
              " torch.Size([2, 3]))"
            ]
          },
          "metadata": {},
          "execution_count": 86
        }
      ]
    },
    {
      "cell_type": "code",
      "source": [
        "torch.mm(first_tensor,second_tensor.T)"
      ],
      "metadata": {
        "colab": {
          "base_uri": "https://localhost:8080/"
        },
        "id": "oIFxLsWUBY0H",
        "outputId": "ef61a7a9-6a93-4649-b404-a691c67f39e7"
      },
      "execution_count": null,
      "outputs": [
        {
          "output_type": "execute_result",
          "data": {
            "text/plain": [
              "tensor([[ 31,  39,  47],\n",
              "        [ 46,  58,  70],\n",
              "        [ 83, 105, 127]])"
            ]
          },
          "metadata": {},
          "execution_count": 84
        }
      ]
    },
    {
      "cell_type": "markdown",
      "source": [
        "## Applying Aggregation Functions on Tensor"
      ],
      "metadata": {
        "id": "sFixal5WBlzm"
      }
    },
    {
      "cell_type": "code",
      "source": [
        "x = torch.arange(0,1000,20)\n",
        "### find the min\n",
        "torch.min(x),x.min()"
      ],
      "metadata": {
        "colab": {
          "base_uri": "https://localhost:8080/"
        },
        "id": "AEXy9xEHH0T5",
        "outputId": "feefcff1-8492-426c-aee1-0db5eb97f321"
      },
      "execution_count": null,
      "outputs": [
        {
          "output_type": "execute_result",
          "data": {
            "text/plain": [
              "(tensor(0), tensor(0))"
            ]
          },
          "metadata": {},
          "execution_count": 87
        }
      ]
    },
    {
      "cell_type": "code",
      "source": [
        "### Find the max\n",
        "torch.max(x),max(x)"
      ],
      "metadata": {
        "colab": {
          "base_uri": "https://localhost:8080/"
        },
        "id": "Xiajpy44H_gK",
        "outputId": "04a3d114-09d7-4cbb-ab8a-428b1d4f332e"
      },
      "execution_count": null,
      "outputs": [
        {
          "output_type": "execute_result",
          "data": {
            "text/plain": [
              "(tensor(980), tensor(980))"
            ]
          },
          "metadata": {},
          "execution_count": 88
        }
      ]
    },
    {
      "cell_type": "code",
      "source": [
        "### Find the mean\n",
        "### Note: Using the mean function can only find mean for datatype float, Complex data type  not int\n",
        "x = x.to(dtype=torch.float32)\n",
        "torch.mean(x),x.mean()"
      ],
      "metadata": {
        "colab": {
          "base_uri": "https://localhost:8080/"
        },
        "id": "DRLpjlFJIE7B",
        "outputId": "db2effa9-4fda-4a28-8812-417bf0a8d7bb"
      },
      "execution_count": null,
      "outputs": [
        {
          "output_type": "execute_result",
          "data": {
            "text/plain": [
              "(tensor(490.), tensor(490.))"
            ]
          },
          "metadata": {},
          "execution_count": 92
        }
      ]
    },
    {
      "cell_type": "code",
      "source": [
        "torch.sum(x),x.sum()"
      ],
      "metadata": {
        "colab": {
          "base_uri": "https://localhost:8080/"
        },
        "id": "WRrFVDvlIKka",
        "outputId": "70b9344e-803e-4619-e852-0fa3f1217c01"
      },
      "execution_count": null,
      "outputs": [
        {
          "output_type": "execute_result",
          "data": {
            "text/plain": [
              "(tensor(24500.), tensor(24500.))"
            ]
          },
          "metadata": {},
          "execution_count": 94
        }
      ]
    },
    {
      "cell_type": "code",
      "source": [
        "new_1d_tensor = torch.rand([2,2])\n",
        "\n",
        "new_1d_tensor"
      ],
      "metadata": {
        "id": "IlFcnunQJahR",
        "colab": {
          "base_uri": "https://localhost:8080/"
        },
        "outputId": "371abf6c-7d69-487b-eb54-ff30e3f5baa8"
      },
      "execution_count": 6,
      "outputs": [
        {
          "output_type": "execute_result",
          "data": {
            "text/plain": [
              "tensor([[0.2740, 0.9194],\n",
              "        [0.9942, 0.3062]])"
            ]
          },
          "metadata": {},
          "execution_count": 6
        }
      ]
    },
    {
      "cell_type": "code",
      "source": [
        "new_2d_tensor = torch.tensor([[1,2,3],[4,5,6],[7,8,9]])\n",
        "\n",
        "print(f'Tensor : {new_2d_tensor} ')\n",
        "print(f'Place for finding the minumum length of the tensor: {new_2d_tensor.argmin()}')\n",
        "print(f'Place for finding the maximum length of the tensor: {new_2d_tensor.argmax()}')\n"
      ],
      "metadata": {
        "id": "dMGnPwRRgqwK",
        "outputId": "5bc802a7-6715-4f6c-ca7b-a9f50987a28b",
        "colab": {
          "base_uri": "https://localhost:8080/"
        }
      },
      "execution_count": 8,
      "outputs": [
        {
          "output_type": "stream",
          "name": "stdout",
          "text": [
            "Tensor : tensor([[1, 2, 3],\n",
            "        [4, 5, 6],\n",
            "        [7, 8, 9]]) \n",
            "Place for finding the minumum length of the tensor: 0\n",
            "Place for finding the maximum length of the tensor: 8\n"
          ]
        }
      ]
    },
    {
      "cell_type": "code",
      "source": [
        "new_ten = torch.arange(0,10,2.5).type(torch.int32)\n",
        "new_ten"
      ],
      "metadata": {
        "id": "6TVwNsddhRX2",
        "outputId": "5b3e06f9-1ed7-4df4-ce10-b16a8cdb45cd",
        "colab": {
          "base_uri": "https://localhost:8080/"
        }
      },
      "execution_count": 13,
      "outputs": [
        {
          "output_type": "execute_result",
          "data": {
            "text/plain": [
              "tensor([0, 2, 5, 7], dtype=torch.int32)"
            ]
          },
          "metadata": {},
          "execution_count": 13
        }
      ]
    },
    {
      "cell_type": "markdown",
      "source": [
        "### Changing the datatype of the tensor\n"
      ],
      "metadata": {
        "id": "Q2pKvoQ6hmci"
      }
    },
    {
      "cell_type": "code",
      "source": [
        "new_float_tensor = new_ten.type(torch.float32)\n",
        "new_ten_2 = new_ten.type(dtype=torch.int16)\n",
        "\n",
        "print(f'Types of tensor : \\n new_float_tensor: {new_float_tensor.dtype}, new_ten_2: {new_ten_2.dtype}')"
      ],
      "metadata": {
        "id": "d6uouGWxhw3D",
        "outputId": "acb2e83d-04f4-4f36-a263-b10e609e4504",
        "colab": {
          "base_uri": "https://localhost:8080/"
        }
      },
      "execution_count": 16,
      "outputs": [
        {
          "output_type": "stream",
          "name": "stdout",
          "text": [
            "Types of tensor : \n",
            " new_float_tensor: torch.float32, new_ten_2: torch.int16\n"
          ]
        }
      ]
    },
    {
      "cell_type": "markdown",
      "source": [
        "## Changing the Size of the Tensor\n"
      ],
      "metadata": {
        "id": "6I64mdEdh02b"
      }
    },
    {
      "cell_type": "markdown",
      "source": [
        "### Reshaping the tensor\n",
        "torch.reshape(input,shape)"
      ],
      "metadata": {
        "id": "iWjs9FDbiw9U"
      }
    },
    {
      "cell_type": "code",
      "source": [
        "n_tensr = torch.arange(1,100,20)\n",
        "\n",
        "print(f'New Tensor: {n_tensr}')\n",
        "print(f'Tensor Type: {n_tensr.dtype}')\n",
        "print(f'Size of the tensor: {n_tensr.size()}')\n",
        "print(f'Len of the tensor: {len(n_tensr)}')"
      ],
      "metadata": {
        "id": "B1tmO5lsi0d9",
        "outputId": "04270dcb-5e02-4dc0-b5e2-95cd63428e4c",
        "colab": {
          "base_uri": "https://localhost:8080/"
        }
      },
      "execution_count": 19,
      "outputs": [
        {
          "output_type": "stream",
          "name": "stdout",
          "text": [
            "New Tensor: tensor([ 1, 21, 41, 61, 81])\n",
            "Tensor Type: torch.int64\n",
            "Size of the tensor: torch.Size([5])\n",
            "Len of the tensor: 5\n"
          ]
        }
      ]
    },
    {
      "cell_type": "code",
      "source": [
        "## keeping the shape small for the reshape\n",
        "torch.reshape(n_tensr,[2,2])"
      ],
      "metadata": {
        "id": "5_HcgFo3i-cP",
        "outputId": "b12d8d7e-94a3-4d57-b5c3-255e21a591c6",
        "colab": {
          "base_uri": "https://localhost:8080/",
          "height": 158
        }
      },
      "execution_count": 20,
      "outputs": [
        {
          "output_type": "error",
          "ename": "RuntimeError",
          "evalue": "shape '[2, 2]' is invalid for input of size 5",
          "traceback": [
            "\u001b[0;31m---------------------------------------------------------------------------\u001b[0m",
            "\u001b[0;31mRuntimeError\u001b[0m                              Traceback (most recent call last)",
            "\u001b[0;32m<ipython-input-20-006e3d9c828e>\u001b[0m in \u001b[0;36m<cell line: 2>\u001b[0;34m()\u001b[0m\n\u001b[1;32m      1\u001b[0m \u001b[0;31m## keeping the shape small for the reshape\u001b[0m\u001b[0;34m\u001b[0m\u001b[0;34m\u001b[0m\u001b[0m\n\u001b[0;32m----> 2\u001b[0;31m \u001b[0mtorch\u001b[0m\u001b[0;34m.\u001b[0m\u001b[0mreshape\u001b[0m\u001b[0;34m(\u001b[0m\u001b[0mn_tensr\u001b[0m\u001b[0;34m,\u001b[0m\u001b[0;34m[\u001b[0m\u001b[0;36m2\u001b[0m\u001b[0;34m,\u001b[0m\u001b[0;36m2\u001b[0m\u001b[0;34m]\u001b[0m\u001b[0;34m)\u001b[0m\u001b[0;34m\u001b[0m\u001b[0;34m\u001b[0m\u001b[0m\n\u001b[0m",
            "\u001b[0;31mRuntimeError\u001b[0m: shape '[2, 2]' is invalid for input of size 5"
          ]
        }
      ]
    },
    {
      "cell_type": "code",
      "source": [
        "## Keeping the size of the reshapte greater than the size of the original tensor eleemnt\n",
        "\n",
        "torch.reshape(n_tensr,[3,3])"
      ],
      "metadata": {
        "id": "6kLZt7GzjkSr",
        "outputId": "f3062d5d-929f-4dbb-fedc-46bcf2b26cd3",
        "colab": {
          "base_uri": "https://localhost:8080/",
          "height": 176
        }
      },
      "execution_count": 21,
      "outputs": [
        {
          "output_type": "error",
          "ename": "RuntimeError",
          "evalue": "shape '[3, 3]' is invalid for input of size 5",
          "traceback": [
            "\u001b[0;31m---------------------------------------------------------------------------\u001b[0m",
            "\u001b[0;31mRuntimeError\u001b[0m                              Traceback (most recent call last)",
            "\u001b[0;32m<ipython-input-21-433b290e8c98>\u001b[0m in \u001b[0;36m<cell line: 3>\u001b[0;34m()\u001b[0m\n\u001b[1;32m      1\u001b[0m \u001b[0;31m## Keeping the size of the reshapte greater than the size of the original tensor eleemnt\u001b[0m\u001b[0;34m\u001b[0m\u001b[0;34m\u001b[0m\u001b[0m\n\u001b[1;32m      2\u001b[0m \u001b[0;34m\u001b[0m\u001b[0m\n\u001b[0;32m----> 3\u001b[0;31m \u001b[0mtorch\u001b[0m\u001b[0;34m.\u001b[0m\u001b[0mreshape\u001b[0m\u001b[0;34m(\u001b[0m\u001b[0mn_tensr\u001b[0m\u001b[0;34m,\u001b[0m\u001b[0;34m[\u001b[0m\u001b[0;36m3\u001b[0m\u001b[0;34m,\u001b[0m\u001b[0;36m3\u001b[0m\u001b[0;34m]\u001b[0m\u001b[0;34m)\u001b[0m\u001b[0;34m\u001b[0m\u001b[0;34m\u001b[0m\u001b[0m\n\u001b[0m",
            "\u001b[0;31mRuntimeError\u001b[0m: shape '[3, 3]' is invalid for input of size 5"
          ]
        }
      ]
    },
    {
      "cell_type": "code",
      "source": [
        "new_ten = torch.rand(4)\n",
        "new_ten"
      ],
      "metadata": {
        "id": "6KBnHZ04juQu",
        "outputId": "577b7527-2ce1-41b2-fa7d-69362647d978",
        "colab": {
          "base_uri": "https://localhost:8080/"
        }
      },
      "execution_count": 30,
      "outputs": [
        {
          "output_type": "execute_result",
          "data": {
            "text/plain": [
              "tensor([0.4315, 0.2573, 0.1490, 0.0013])"
            ]
          },
          "metadata": {},
          "execution_count": 30
        }
      ]
    },
    {
      "cell_type": "code",
      "source": [
        "torch.reshape(new_ten,(2,2))"
      ],
      "metadata": {
        "id": "BlWXUXq7jyJv",
        "outputId": "86a55dcc-3aa4-4e42-8924-6747f08ce188",
        "colab": {
          "base_uri": "https://localhost:8080/"
        }
      },
      "execution_count": 31,
      "outputs": [
        {
          "output_type": "execute_result",
          "data": {
            "text/plain": [
              "tensor([[0.4315, 0.2573],\n",
              "        [0.1490, 0.0013]])"
            ]
          },
          "metadata": {},
          "execution_count": 31
        }
      ]
    },
    {
      "cell_type": "markdown",
      "source": [
        "### View\n",
        "Returns the view of the original tensor with a different shape but shares the same data as the original tensor\n",
        "Resultant Tensor will have same amount of data as original just in different shape\n",
        "Change in the view also changes the original tensor\n",
        "\n",
        "\n",
        "Tensor.view(shape)\n"
      ],
      "metadata": {
        "id": "72QGR5uXkEyw"
      }
    },
    {
      "cell_type": "code",
      "source": [
        "new_ten = torch.rand(7)\n",
        "\n",
        "print(f'Tensor: {new_ten} \\n shape of the tensor: {new_ten.shape}')"
      ],
      "metadata": {
        "id": "BOfzindSlE_z",
        "outputId": "3bcdff20-fcf0-40df-e836-a5c8eb4aa257",
        "colab": {
          "base_uri": "https://localhost:8080/"
        }
      },
      "execution_count": 32,
      "outputs": [
        {
          "output_type": "stream",
          "name": "stdout",
          "text": [
            "Tensor: tensor([0.9249, 0.8139, 0.3271, 0.5767, 0.3940, 0.3360, 0.5275]) \n",
            " shape of the tensor: torch.Size([7])\n"
          ]
        }
      ]
    },
    {
      "cell_type": "code",
      "source": [
        "new_view_ten = new_ten.view(1,7)\n",
        "\n",
        "print(f'Information about the view: ')\n",
        "print(f'Tensor: {new_view_ten} \\n shape of the tensor: {new_view_ten.shape}')"
      ],
      "metadata": {
        "id": "Q3mXEJ96lQVb",
        "outputId": "9c346b2f-0e5d-44f1-9e06-e97bad613b24",
        "colab": {
          "base_uri": "https://localhost:8080/"
        }
      },
      "execution_count": 34,
      "outputs": [
        {
          "output_type": "stream",
          "name": "stdout",
          "text": [
            "Information about the view: \n",
            "Tensor: tensor([[0.9249, 0.8139, 0.3271, 0.5767, 0.3940, 0.3360, 0.5275]]) \n",
            " shape of the tensor: torch.Size([1, 7])\n"
          ]
        }
      ]
    },
    {
      "cell_type": "markdown",
      "source": [
        "### Changing elements in the view tensor changes the same element in the main tensor as well"
      ],
      "metadata": {
        "id": "M-0lyH9hmJIG"
      }
    },
    {
      "cell_type": "code",
      "source": [
        "## Changing the element in the view also changes the element of the original tensors\n",
        "\n",
        "new_view_ten[0,3] = 0\n",
        "\n",
        "print(f'View Tensor: {new_view_ten} \\n Original Tensor: {new_ten}')"
      ],
      "metadata": {
        "id": "fHTgALIIlc81",
        "outputId": "cd717bf1-5735-46b3-d7dd-97c46f583d9e",
        "colab": {
          "base_uri": "https://localhost:8080/"
        }
      },
      "execution_count": 35,
      "outputs": [
        {
          "output_type": "stream",
          "name": "stdout",
          "text": [
            "View Tensor: tensor([[0.9249, 0.8139, 0.3271, 0.0000, 0.3940, 0.3360, 0.5275]]) \n",
            " Original Tensor: tensor([0.9249, 0.8139, 0.3271, 0.0000, 0.3940, 0.3360, 0.5275])\n"
          ]
        }
      ]
    },
    {
      "cell_type": "code",
      "source": [
        "new_view_ten.reshape(1,1,7),new_ten"
      ],
      "metadata": {
        "id": "PoQuC1C0lx1Q",
        "outputId": "35974a89-3783-45af-86b5-1bcb8f75bb86",
        "colab": {
          "base_uri": "https://localhost:8080/"
        }
      },
      "execution_count": 37,
      "outputs": [
        {
          "output_type": "execute_result",
          "data": {
            "text/plain": [
              "(tensor([[[0.9249, 0.8139, 0.3271, 0.0000, 0.3940, 0.3360, 0.5275]]]),\n",
              " tensor([0.9249, 0.8139, 0.3271, 0.0000, 0.3940, 0.3360, 0.5275]))"
            ]
          },
          "metadata": {},
          "execution_count": 37
        }
      ]
    },
    {
      "cell_type": "markdown",
      "source": [
        "### Stack\n",
        "It Concatenates the sequence of tensors along with a new dimension. All Tensors as to be of same size\n",
        "\n",
        "torch.stack(tensors,dim=0)\n"
      ],
      "metadata": {
        "id": "aQHviHofl_Pb"
      }
    },
    {
      "cell_type": "code",
      "source": [
        "even_ten = torch.arange(2,12,2)\n",
        "odd_ten = torch.arange(1,10,2)\n",
        "even_ten,odd_ten"
      ],
      "metadata": {
        "id": "T-EnbdHWmYKX",
        "outputId": "b9fc1e7d-370a-4fd1-c142-68630287b34a",
        "colab": {
          "base_uri": "https://localhost:8080/"
        }
      },
      "execution_count": 38,
      "outputs": [
        {
          "output_type": "execute_result",
          "data": {
            "text/plain": [
              "(tensor([ 2,  4,  6,  8, 10]), tensor([1, 3, 5, 7, 9]))"
            ]
          },
          "metadata": {},
          "execution_count": 38
        }
      ]
    },
    {
      "cell_type": "code",
      "source": [
        "stacked_ten = torch.stack([even_ten,odd_ten],dim=0)\n",
        "\n",
        "stacked_ten,stacked_ten.shape"
      ],
      "metadata": {
        "id": "k8MQBSWbnLC3",
        "outputId": "90834c3e-1f3e-4a6c-f92e-85e038a0efc5",
        "colab": {
          "base_uri": "https://localhost:8080/"
        }
      },
      "execution_count": 40,
      "outputs": [
        {
          "output_type": "execute_result",
          "data": {
            "text/plain": [
              "(tensor([[ 2,  4,  6,  8, 10],\n",
              "         [ 1,  3,  5,  7,  9]]),\n",
              " torch.Size([2, 5]))"
            ]
          },
          "metadata": {},
          "execution_count": 40
        }
      ]
    },
    {
      "cell_type": "code",
      "source": [
        "col_stacked_ten = torch.stack([even_ten,odd_ten],dim = 1)\n",
        "\n",
        "col_stacked_ten,col_stacked_ten.shape"
      ],
      "metadata": {
        "id": "qCaZx5NInUmo",
        "outputId": "0877bce9-52ee-488c-8ae3-37025930520f",
        "colab": {
          "base_uri": "https://localhost:8080/"
        }
      },
      "execution_count": 41,
      "outputs": [
        {
          "output_type": "execute_result",
          "data": {
            "text/plain": [
              "(tensor([[ 2,  1],\n",
              "         [ 4,  3],\n",
              "         [ 6,  5],\n",
              "         [ 8,  7],\n",
              "         [10,  9]]),\n",
              " torch.Size([5, 2]))"
            ]
          },
          "metadata": {},
          "execution_count": 41
        }
      ]
    },
    {
      "cell_type": "code",
      "source": [
        "new_test_ten = torch.stack([even_ten,odd_ten],dim=-1)\n",
        "\n",
        "new_test_ten,new_test_ten.shape"
      ],
      "metadata": {
        "id": "lVcltDTUnjpY",
        "outputId": "1800b571-69f5-4f39-ac98-b2348f708c25",
        "colab": {
          "base_uri": "https://localhost:8080/"
        }
      },
      "execution_count": 42,
      "outputs": [
        {
          "output_type": "execute_result",
          "data": {
            "text/plain": [
              "(tensor([[ 2,  1],\n",
              "         [ 4,  3],\n",
              "         [ 6,  5],\n",
              "         [ 8,  7],\n",
              "         [10,  9]]),\n",
              " torch.Size([5, 2]))"
            ]
          },
          "metadata": {},
          "execution_count": 42
        }
      ]
    },
    {
      "cell_type": "markdown",
      "source": [
        "## Squeeze\n",
        "remove all dimensions with value 1\n",
        "\n",
        "torch.squeeze(input)"
      ],
      "metadata": {
        "id": "Yto-CQX8nums"
      }
    },
    {
      "cell_type": "code",
      "source": [
        "new_ten = torch.rand([1,1,2,1,3])\n",
        "\n",
        "new_ten,new_ten.shape"
      ],
      "metadata": {
        "id": "65FHJ-RSoW9i",
        "outputId": "fa32495e-c6ee-4032-a9f6-080ebaa19c5f",
        "colab": {
          "base_uri": "https://localhost:8080/"
        }
      },
      "execution_count": 51,
      "outputs": [
        {
          "output_type": "execute_result",
          "data": {
            "text/plain": [
              "(tensor([[[[[0.1035, 0.2976, 0.3511]],\n",
              " \n",
              "           [[0.1218, 0.1700, 0.3391]]]]]),\n",
              " torch.Size([1, 1, 2, 1, 3]))"
            ]
          },
          "metadata": {},
          "execution_count": 51
        }
      ]
    },
    {
      "cell_type": "code",
      "source": [
        "sequezzed_ten = torch.squeeze(new_ten)\n",
        "sequezzed_ten,sequezzed_ten.shape"
      ],
      "metadata": {
        "id": "GewFRDN5ofbr",
        "outputId": "7c8e3d66-8a19-4797-c3d4-bb1bd2176247",
        "colab": {
          "base_uri": "https://localhost:8080/"
        }
      },
      "execution_count": 54,
      "outputs": [
        {
          "output_type": "execute_result",
          "data": {
            "text/plain": [
              "(tensor([[0.1035, 0.2976, 0.3511],\n",
              "         [0.1218, 0.1700, 0.3391]]),\n",
              " torch.Size([2, 3]))"
            ]
          },
          "metadata": {},
          "execution_count": 54
        }
      ]
    },
    {
      "cell_type": "markdown",
      "source": [
        "## Unsqueeze\n",
        "Returns input with 1 dim added to it\n",
        "\n",
        "torch.unsqueeze(input,dim)\n",
        "\n",
        "Here input is the level where we want to add the new dimension in the tensor"
      ],
      "metadata": {
        "id": "2hVzfbqppKWJ"
      }
    },
    {
      "cell_type": "code",
      "source": [
        "new_tens = torch.arange(1,10,2)\n",
        "\n",
        "new_tens,new_tens.shape"
      ],
      "metadata": {
        "id": "OTwS74KTpgas",
        "outputId": "e3865ea4-fc36-49be-a931-15ecbcabb0b1",
        "colab": {
          "base_uri": "https://localhost:8080/"
        }
      },
      "execution_count": 57,
      "outputs": [
        {
          "output_type": "execute_result",
          "data": {
            "text/plain": [
              "(tensor([1, 3, 5, 7, 9]), torch.Size([5]))"
            ]
          },
          "metadata": {},
          "execution_count": 57
        }
      ]
    },
    {
      "cell_type": "code",
      "source": [
        "new_unsequeezed_tensor = torch.unsqueeze(new_tens,[2,3])\n",
        "\n",
        "new_unsequeezed_tensor,new_unsequeezed_tensor.shape"
      ],
      "metadata": {
        "id": "MM6c0yT0plpV",
        "outputId": "21d06a4f-dffa-43b6-e80b-6f0c526dc9e9",
        "colab": {
          "base_uri": "https://localhost:8080/",
          "height": 176
        }
      },
      "execution_count": 58,
      "outputs": [
        {
          "output_type": "error",
          "ename": "TypeError",
          "evalue": "unsqueeze(): argument 'dim' (position 2) must be int, not list",
          "traceback": [
            "\u001b[0;31m---------------------------------------------------------------------------\u001b[0m",
            "\u001b[0;31mTypeError\u001b[0m                                 Traceback (most recent call last)",
            "\u001b[0;32m<ipython-input-58-24340554903c>\u001b[0m in \u001b[0;36m<cell line: 1>\u001b[0;34m()\u001b[0m\n\u001b[0;32m----> 1\u001b[0;31m \u001b[0mnew_unsequeezed_tensor\u001b[0m \u001b[0;34m=\u001b[0m \u001b[0mtorch\u001b[0m\u001b[0;34m.\u001b[0m\u001b[0munsqueeze\u001b[0m\u001b[0;34m(\u001b[0m\u001b[0mnew_tens\u001b[0m\u001b[0;34m,\u001b[0m\u001b[0;34m[\u001b[0m\u001b[0;36m2\u001b[0m\u001b[0;34m,\u001b[0m\u001b[0;36m3\u001b[0m\u001b[0;34m]\u001b[0m\u001b[0;34m)\u001b[0m\u001b[0;34m\u001b[0m\u001b[0;34m\u001b[0m\u001b[0m\n\u001b[0m\u001b[1;32m      2\u001b[0m \u001b[0;34m\u001b[0m\u001b[0m\n\u001b[1;32m      3\u001b[0m \u001b[0mnew_unsequeezed_tensor\u001b[0m\u001b[0;34m,\u001b[0m\u001b[0mnew_unsequeezed_tensor\u001b[0m\u001b[0;34m.\u001b[0m\u001b[0mshape\u001b[0m\u001b[0;34m\u001b[0m\u001b[0;34m\u001b[0m\u001b[0m\n",
            "\u001b[0;31mTypeError\u001b[0m: unsqueeze(): argument 'dim' (position 2) must be int, not list"
          ]
        }
      ]
    },
    {
      "cell_type": "code",
      "source": [
        "new_unsequeezed_tensor = torch.unsqueeze(new_tens,dim=0)\n",
        "\n",
        "new_unsequeezed_tensor,new_unsequeezed_tensor.shape"
      ],
      "metadata": {
        "id": "7yaDC-LVp0qW",
        "outputId": "fa8ddf6a-d947-4c90-c4a4-02382d72ded6",
        "colab": {
          "base_uri": "https://localhost:8080/"
        }
      },
      "execution_count": 59,
      "outputs": [
        {
          "output_type": "execute_result",
          "data": {
            "text/plain": [
              "(tensor([[1, 3, 5, 7, 9]]), torch.Size([1, 5]))"
            ]
          },
          "metadata": {},
          "execution_count": 59
        }
      ]
    },
    {
      "cell_type": "code",
      "source": [
        "new_unsequeezed_tensor = torch.unsqueeze(new_tens,dim=1)\n",
        "\n",
        "new_unsequeezed_tensor,new_unsequeezed_tensor.shape"
      ],
      "metadata": {
        "id": "qiSXlF5hp42g",
        "outputId": "00eda33d-6dad-427c-a0f6-5b5774b77d25",
        "colab": {
          "base_uri": "https://localhost:8080/"
        }
      },
      "execution_count": 60,
      "outputs": [
        {
          "output_type": "execute_result",
          "data": {
            "text/plain": [
              "(tensor([[1],\n",
              "         [3],\n",
              "         [5],\n",
              "         [7],\n",
              "         [9]]),\n",
              " torch.Size([5, 1]))"
            ]
          },
          "metadata": {},
          "execution_count": 60
        }
      ]
    },
    {
      "cell_type": "code",
      "source": [
        "new_tens = torch.rand([4,4,4])\n",
        "new_unsequeezed_tensor = torch.unsqueeze(new_tens,dim=0)\n",
        "\n",
        "new_unsequeezed_tensor,new_unsequeezed_tensor.shape"
      ],
      "metadata": {
        "id": "sGM-GNK0p7DI",
        "outputId": "08b77681-f2c3-4704-a9e9-ebbd154574d4",
        "colab": {
          "base_uri": "https://localhost:8080/"
        }
      },
      "execution_count": 61,
      "outputs": [
        {
          "output_type": "execute_result",
          "data": {
            "text/plain": [
              "(tensor([[[[0.5955, 0.2601, 0.7937, 0.6881],\n",
              "           [0.6574, 0.4545, 0.2208, 0.3274],\n",
              "           [0.8580, 0.3900, 0.0283, 0.1849],\n",
              "           [0.6019, 0.0065, 0.4671, 0.9089]],\n",
              " \n",
              "          [[0.2013, 0.9403, 0.7501, 0.9536],\n",
              "           [0.8947, 0.3202, 0.6068, 0.8019],\n",
              "           [0.6026, 0.6550, 0.1003, 0.0537],\n",
              "           [0.7732, 0.8787, 0.9307, 0.1729]],\n",
              " \n",
              "          [[0.3859, 0.2686, 0.9705, 0.9092],\n",
              "           [0.2907, 0.7926, 0.3313, 0.5642],\n",
              "           [0.4740, 0.6670, 0.2186, 0.6429],\n",
              "           [0.4644, 0.8419, 0.0663, 0.6251]],\n",
              " \n",
              "          [[0.7753, 0.4953, 0.2824, 0.4378],\n",
              "           [0.9504, 0.6590, 0.6228, 0.6494],\n",
              "           [0.6818, 0.7326, 0.1665, 0.4811],\n",
              "           [0.6989, 0.9179, 0.6602, 0.2064]]]]),\n",
              " torch.Size([1, 4, 4, 4]))"
            ]
          },
          "metadata": {},
          "execution_count": 61
        }
      ]
    },
    {
      "cell_type": "code",
      "source": [
        "new_tens = torch.rand([4,4,4])\n",
        "new_unsequeezed_tensor = torch.unsqueeze(new_tens,dim=1)\n",
        "\n",
        "new_unsequeezed_tensor,new_unsequeezed_tensor.shape"
      ],
      "metadata": {
        "id": "qXVooo4oqKca",
        "outputId": "1a95e7a4-e8bd-436f-a388-5b2302237bd9",
        "colab": {
          "base_uri": "https://localhost:8080/"
        }
      },
      "execution_count": 62,
      "outputs": [
        {
          "output_type": "execute_result",
          "data": {
            "text/plain": [
              "(tensor([[[[0.7305, 0.9030, 0.2287, 0.9458],\n",
              "           [0.8965, 0.1619, 0.3986, 0.0233],\n",
              "           [0.4326, 0.8719, 0.7615, 0.4162],\n",
              "           [0.7413, 0.9239, 0.4886, 0.0914]]],\n",
              " \n",
              " \n",
              "         [[[0.4219, 0.5818, 0.1262, 0.9737],\n",
              "           [0.7730, 0.8989, 0.3008, 0.3067],\n",
              "           [0.6200, 0.9774, 0.9026, 0.8612],\n",
              "           [0.5234, 0.6500, 0.5327, 0.6852]]],\n",
              " \n",
              " \n",
              "         [[[0.4210, 0.2946, 0.4281, 0.6324],\n",
              "           [0.7170, 0.5006, 0.6833, 0.2628],\n",
              "           [0.5484, 0.2948, 0.3556, 0.5292],\n",
              "           [0.5005, 0.6593, 0.5800, 0.8951]]],\n",
              " \n",
              " \n",
              "         [[[0.1795, 0.6969, 0.2637, 0.5983],\n",
              "           [0.7051, 0.0866, 0.1019, 0.3249],\n",
              "           [0.3126, 0.6694, 0.5071, 0.1580],\n",
              "           [0.9051, 0.4304, 0.3411, 0.1021]]]]),\n",
              " torch.Size([4, 1, 4, 4]))"
            ]
          },
          "metadata": {},
          "execution_count": 62
        }
      ]
    },
    {
      "cell_type": "code",
      "source": [
        "new_tens = torch.rand([4,4,4])\n",
        "new_unsequeezed_tensor = torch.unsqueeze(new_tens,dim=2)\n",
        "\n",
        "new_unsequeezed_tensor,new_unsequeezed_tensor.shape"
      ],
      "metadata": {
        "id": "ElizK1PFqOCD",
        "outputId": "9b7846ce-3c60-45fa-9764-8a7fdc10d2d3",
        "colab": {
          "base_uri": "https://localhost:8080/"
        }
      },
      "execution_count": 63,
      "outputs": [
        {
          "output_type": "execute_result",
          "data": {
            "text/plain": [
              "(tensor([[[[0.0823, 0.5353, 0.3034, 0.1050]],\n",
              " \n",
              "          [[0.6582, 0.0533, 0.4894, 0.4698]],\n",
              " \n",
              "          [[0.7016, 0.8677, 0.1859, 0.5277]],\n",
              " \n",
              "          [[0.8308, 0.5416, 0.5518, 0.6963]]],\n",
              " \n",
              " \n",
              "         [[[0.5366, 0.9994, 0.6259, 0.3217]],\n",
              " \n",
              "          [[0.7986, 0.3848, 0.7176, 0.1421]],\n",
              " \n",
              "          [[0.8001, 0.1102, 0.1554, 0.9629]],\n",
              " \n",
              "          [[0.4787, 0.6037, 0.2057, 0.3300]]],\n",
              " \n",
              " \n",
              "         [[[0.8537, 0.8097, 0.7615, 0.3861]],\n",
              " \n",
              "          [[0.3750, 0.8604, 0.9130, 0.9903]],\n",
              " \n",
              "          [[0.6617, 0.8738, 0.0622, 0.4568]],\n",
              " \n",
              "          [[0.4751, 0.4864, 0.3242, 0.0788]]],\n",
              " \n",
              " \n",
              "         [[[0.0590, 0.2335, 0.4649, 0.2004]],\n",
              " \n",
              "          [[0.9547, 0.6970, 0.5727, 0.1047]],\n",
              " \n",
              "          [[0.5356, 0.5876, 0.9191, 0.0382]],\n",
              " \n",
              "          [[0.4071, 0.9534, 0.3027, 0.1492]]]]),\n",
              " torch.Size([4, 4, 1, 4]))"
            ]
          },
          "metadata": {},
          "execution_count": 63
        }
      ]
    },
    {
      "cell_type": "code",
      "source": [],
      "metadata": {
        "id": "vqTvz2HmqQpE"
      },
      "execution_count": null,
      "outputs": []
    }
  ]
}